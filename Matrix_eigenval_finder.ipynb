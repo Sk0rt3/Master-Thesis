{
 "cells": [
  {
   "cell_type": "code",
   "execution_count": 1,
   "metadata": {},
   "outputs": [],
   "source": [
    "import sympy as sp\n",
    "import numpy as np\n"
   ]
  },
  {
   "cell_type": "code",
   "execution_count": 2,
   "metadata": {},
   "outputs": [],
   "source": [
    "Omega = sp.symbols('Omega', real=True)\n",
    "Delta_Omega_1 = sp.symbols('\\Delta{\\Omega}_1', real=True)\n",
    "Delta_Omega_2 = sp.symbols('\\Delta{\\Omega}_2', real=True)\n",
    "kappa = sp.symbols('kappa', real=True)\n",
    "T = sp.symbols('T', real=True)\n",
    "I = sp.I\n"
   ]
  },
  {
   "cell_type": "code",
   "execution_count": 3,
   "metadata": {},
   "outputs": [
    {
     "name": "stdout",
     "output_type": "stream",
     "text": [
      "\\Delta\n"
     ]
    }
   ],
   "source": [
    "Delta = sp.Symbol('\\Delta', real=True)\n",
    "Omega = sp.Symbol('\\Omega', real=True)\n",
    "\n",
    "new_var = Delta * Omega\n",
    "print(str(Delta))\n"
   ]
  },
  {
   "cell_type": "markdown",
   "metadata": {},
   "source": [
    "# 2-Level system Rabi 2 order pertubation"
   ]
  },
  {
   "cell_type": "code",
   "execution_count": 4,
   "metadata": {},
   "outputs": [
    {
     "name": "stdout",
     "output_type": "stream",
     "text": [
      "R_0\n"
     ]
    },
    {
     "data": {
      "text/latex": [
       "$\\displaystyle \\left[\\begin{matrix}1 + \\frac{\\kappa^{2}}{\\Omega^{2}} & 0 & -1 & -1\\\\\\frac{i \\kappa}{\\Omega} & 1 & \\frac{i \\left(\\kappa - \\sqrt{- 16 \\Omega^{2} + \\kappa^{2}}\\right)}{4 \\Omega} & \\frac{i \\left(\\kappa + \\sqrt{- 16 \\Omega^{2} + \\kappa^{2}}\\right)}{4 \\Omega}\\\\- \\frac{i \\kappa}{\\Omega} & 1 & \\frac{i \\left(- \\kappa + \\sqrt{- 16 \\Omega^{2} + \\kappa^{2}}\\right)}{4 \\Omega} & \\frac{i \\left(- \\kappa - \\sqrt{- 16 \\Omega^{2} + \\kappa^{2}}\\right)}{4 \\Omega}\\\\1 & 0 & 1 & 1\\end{matrix}\\right]$"
      ],
      "text/plain": [
       "Matrix([\n",
       "[1 + kappa**2/\\Omega**2, 0,                                                     -1,                                                     -1],\n",
       "[        I*kappa/\\Omega, 1,  I*(kappa - sqrt(-16*\\Omega**2 + kappa**2))/(4*\\Omega),  I*(kappa + sqrt(-16*\\Omega**2 + kappa**2))/(4*\\Omega)],\n",
       "[       -I*kappa/\\Omega, 1, I*(-kappa + sqrt(-16*\\Omega**2 + kappa**2))/(4*\\Omega), I*(-kappa - sqrt(-16*\\Omega**2 + kappa**2))/(4*\\Omega)],\n",
       "[                     1, 0,                                                      1,                                                      1]])"
      ]
     },
     "metadata": {},
     "output_type": "display_data"
    },
    {
     "name": "stdout",
     "output_type": "stream",
     "text": [
      "V_0\n"
     ]
    },
    {
     "data": {
      "text/latex": [
       "$\\displaystyle \\left[\\begin{matrix}1 & 0 & 0 & 1\\\\0 & 1 & 1 & 0\\\\\\frac{- 2 \\Omega^{2} + \\kappa^{2} - \\kappa \\sqrt{- 16 \\Omega^{2} + \\kappa^{2}}}{2 \\left(\\Omega^{2} + 3 \\kappa^{2}\\right)} & \\frac{i \\left(\\kappa \\left(2 \\Omega^{2} + \\kappa^{2}\\right) - \\frac{\\left(\\Omega^{2} + \\kappa^{2}\\right) \\left(3 \\kappa + \\sqrt{- \\left(4 \\Omega - \\kappa\\right) \\left(4 \\Omega + \\kappa\\right)}\\right)}{4}\\right)}{\\Omega \\left(\\Omega^{2} + 3 \\kappa^{2}\\right)} & \\frac{i \\left(- \\kappa \\left(2 \\Omega^{2} + \\kappa^{2}\\right) + \\frac{\\left(\\Omega^{2} + \\kappa^{2}\\right) \\left(3 \\kappa + \\sqrt{- \\left(4 \\Omega - \\kappa\\right) \\left(4 \\Omega + \\kappa\\right)}\\right)}{4}\\right)}{\\Omega \\left(\\Omega^{2} + 3 \\kappa^{2}\\right)} & 1\\\\\\frac{- 2 \\Omega^{2} + \\kappa^{2} + \\kappa \\sqrt{- 16 \\Omega^{2} + \\kappa^{2}}}{2 \\left(\\Omega^{2} + 3 \\kappa^{2}\\right)} & \\frac{i \\left(\\kappa \\left(2 \\Omega^{2} + \\kappa^{2}\\right) - \\frac{\\left(\\Omega^{2} + \\kappa^{2}\\right) \\left(3 \\kappa - \\sqrt{- \\left(4 \\Omega - \\kappa\\right) \\left(4 \\Omega + \\kappa\\right)}\\right)}{4}\\right)}{\\Omega \\left(\\Omega^{2} + 3 \\kappa^{2}\\right)} & \\frac{i \\left(- \\kappa \\left(2 \\Omega^{2} + \\kappa^{2}\\right) + \\frac{\\left(\\Omega^{2} + \\kappa^{2}\\right) \\left(3 \\kappa - \\sqrt{- \\left(4 \\Omega - \\kappa\\right) \\left(4 \\Omega + \\kappa\\right)}\\right)}{4}\\right)}{\\Omega \\left(\\Omega^{2} + 3 \\kappa^{2}\\right)} & 1\\end{matrix}\\right]$"
      ],
      "text/plain": [
       "Matrix([\n",
       "[                                                                                            1,                                                                                                                                                        0,                                                                                                                                                         0, 1],\n",
       "[                                                                                            0,                                                                                                                                                        1,                                                                                                                                                         1, 0],\n",
       "[(-2*\\Omega**2 + kappa**2 - kappa*sqrt(-16*\\Omega**2 + kappa**2))/(2*(\\Omega**2 + 3*kappa**2)), I*(kappa*(2*\\Omega**2 + kappa**2) - (\\Omega**2 + kappa**2)*(3*kappa + sqrt(-(4*\\Omega - kappa)*(4*\\Omega + kappa)))/4)/(\\Omega*(\\Omega**2 + 3*kappa**2)), I*(-kappa*(2*\\Omega**2 + kappa**2) + (\\Omega**2 + kappa**2)*(3*kappa + sqrt(-(4*\\Omega - kappa)*(4*\\Omega + kappa)))/4)/(\\Omega*(\\Omega**2 + 3*kappa**2)), 1],\n",
       "[(-2*\\Omega**2 + kappa**2 + kappa*sqrt(-16*\\Omega**2 + kappa**2))/(2*(\\Omega**2 + 3*kappa**2)), I*(kappa*(2*\\Omega**2 + kappa**2) - (\\Omega**2 + kappa**2)*(3*kappa - sqrt(-(4*\\Omega - kappa)*(4*\\Omega + kappa)))/4)/(\\Omega*(\\Omega**2 + 3*kappa**2)), I*(-kappa*(2*\\Omega**2 + kappa**2) + (\\Omega**2 + kappa**2)*(3*kappa - sqrt(-(4*\\Omega - kappa)*(4*\\Omega + kappa)))/4)/(\\Omega*(\\Omega**2 + 3*kappa**2)), 1]])"
      ]
     },
     "metadata": {},
     "output_type": "display_data"
    },
    {
     "name": "stdout",
     "output_type": "stream",
     "text": [
      "R_0 normalized\n"
     ]
    },
    {
     "data": {
      "text/latex": [
       "$\\displaystyle \\left[\\begin{matrix}\\frac{1 + \\frac{\\kappa^{2}}{\\Omega^{2}}}{2 + \\frac{\\kappa^{2}}{\\Omega^{2}}} & 0 & -1 & -1\\\\\\frac{i \\kappa}{\\Omega \\left(2 + \\frac{\\kappa^{2}}{\\Omega^{2}}\\right)} & 1 & \\frac{i \\left(\\kappa - \\sqrt{- 16 \\Omega^{2} + \\kappa^{2}}\\right)}{4 \\Omega} & \\frac{i \\left(\\kappa + \\sqrt{- 16 \\Omega^{2} + \\kappa^{2}}\\right)}{4 \\Omega}\\\\- \\frac{i \\kappa}{\\Omega \\left(2 + \\frac{\\kappa^{2}}{\\Omega^{2}}\\right)} & 1 & \\frac{i \\left(- \\kappa + \\sqrt{- 16 \\Omega^{2} + \\kappa^{2}}\\right)}{4 \\Omega} & \\frac{i \\left(- \\kappa - \\sqrt{- 16 \\Omega^{2} + \\kappa^{2}}\\right)}{4 \\Omega}\\\\\\frac{1}{2 + \\frac{\\kappa^{2}}{\\Omega^{2}}} & 0 & 1 & 1\\end{matrix}\\right]$"
      ],
      "text/plain": [
       "Matrix([\n",
       "[(1 + kappa**2/\\Omega**2)/(2 + kappa**2/\\Omega**2), 0,                                                     -1,                                                     -1],\n",
       "[        I*kappa/(\\Omega*(2 + kappa**2/\\Omega**2)), 1,  I*(kappa - sqrt(-16*\\Omega**2 + kappa**2))/(4*\\Omega),  I*(kappa + sqrt(-16*\\Omega**2 + kappa**2))/(4*\\Omega)],\n",
       "[       -I*kappa/(\\Omega*(2 + kappa**2/\\Omega**2)), 1, I*(-kappa + sqrt(-16*\\Omega**2 + kappa**2))/(4*\\Omega), I*(-kappa - sqrt(-16*\\Omega**2 + kappa**2))/(4*\\Omega)],\n",
       "[                       1/(2 + kappa**2/\\Omega**2), 0,                                                      1,                                                      1]])"
      ]
     },
     "metadata": {},
     "output_type": "display_data"
    },
    {
     "name": "stdout",
     "output_type": "stream",
     "text": [
      "V_0 normalized\n"
     ]
    },
    {
     "data": {
      "text/latex": [
       "$\\displaystyle \\left[\\begin{matrix}\\frac{1}{\\frac{1 + \\frac{\\kappa^{2}}{\\Omega^{2}}}{2 + \\frac{\\kappa^{2}}{\\Omega^{2}}} + \\frac{1}{2 + \\frac{\\kappa^{2}}{\\Omega^{2}}}} & 0 & 0 & \\frac{1}{\\frac{1 + \\frac{\\kappa^{2}}{\\Omega^{2}}}{2 + \\frac{\\kappa^{2}}{\\Omega^{2}}} + \\frac{1}{2 + \\frac{\\kappa^{2}}{\\Omega^{2}}}}\\\\0 & \\frac{1}{2} & \\frac{1}{2} & 0\\\\\\frac{- 2 \\Omega^{2} + \\kappa^{2} - \\kappa \\sqrt{- 16 \\Omega^{2} + \\kappa^{2}}}{2 \\left(\\Omega^{2} + 3 \\kappa^{2}\\right) \\left(1 - \\frac{- 2 \\Omega^{2} + \\kappa^{2} - \\kappa \\sqrt{- 16 \\Omega^{2} + \\kappa^{2}}}{2 \\left(\\Omega^{2} + 3 \\kappa^{2}\\right)} - \\frac{\\left(- \\kappa + \\sqrt{- 16 \\Omega^{2} + \\kappa^{2}}\\right) \\left(- \\kappa \\left(2 \\Omega^{2} + \\kappa^{2}\\right) + \\frac{\\left(\\Omega^{2} + \\kappa^{2}\\right) \\left(3 \\kappa + \\sqrt{- \\left(4 \\Omega - \\kappa\\right) \\left(4 \\Omega + \\kappa\\right)}\\right)}{4}\\right)}{4 \\Omega^{2} \\left(\\Omega^{2} + 3 \\kappa^{2}\\right)} - \\frac{\\left(\\kappa - \\sqrt{- 16 \\Omega^{2} + \\kappa^{2}}\\right) \\left(\\kappa \\left(2 \\Omega^{2} + \\kappa^{2}\\right) - \\frac{\\left(\\Omega^{2} + \\kappa^{2}\\right) \\left(3 \\kappa + \\sqrt{- \\left(4 \\Omega - \\kappa\\right) \\left(4 \\Omega + \\kappa\\right)}\\right)}{4}\\right)}{4 \\Omega^{2} \\left(\\Omega^{2} + 3 \\kappa^{2}\\right)}\\right)} & \\frac{i \\left(\\kappa \\left(2 \\Omega^{2} + \\kappa^{2}\\right) - \\frac{\\left(\\Omega^{2} + \\kappa^{2}\\right) \\left(3 \\kappa + \\sqrt{- \\left(4 \\Omega - \\kappa\\right) \\left(4 \\Omega + \\kappa\\right)}\\right)}{4}\\right)}{\\Omega \\left(\\Omega^{2} + 3 \\kappa^{2}\\right) \\left(1 - \\frac{- 2 \\Omega^{2} + \\kappa^{2} - \\kappa \\sqrt{- 16 \\Omega^{2} + \\kappa^{2}}}{2 \\left(\\Omega^{2} + 3 \\kappa^{2}\\right)} - \\frac{\\left(- \\kappa + \\sqrt{- 16 \\Omega^{2} + \\kappa^{2}}\\right) \\left(- \\kappa \\left(2 \\Omega^{2} + \\kappa^{2}\\right) + \\frac{\\left(\\Omega^{2} + \\kappa^{2}\\right) \\left(3 \\kappa + \\sqrt{- \\left(4 \\Omega - \\kappa\\right) \\left(4 \\Omega + \\kappa\\right)}\\right)}{4}\\right)}{4 \\Omega^{2} \\left(\\Omega^{2} + 3 \\kappa^{2}\\right)} - \\frac{\\left(\\kappa - \\sqrt{- 16 \\Omega^{2} + \\kappa^{2}}\\right) \\left(\\kappa \\left(2 \\Omega^{2} + \\kappa^{2}\\right) - \\frac{\\left(\\Omega^{2} + \\kappa^{2}\\right) \\left(3 \\kappa + \\sqrt{- \\left(4 \\Omega - \\kappa\\right) \\left(4 \\Omega + \\kappa\\right)}\\right)}{4}\\right)}{4 \\Omega^{2} \\left(\\Omega^{2} + 3 \\kappa^{2}\\right)}\\right)} & \\frac{i \\left(- \\kappa \\left(2 \\Omega^{2} + \\kappa^{2}\\right) + \\frac{\\left(\\Omega^{2} + \\kappa^{2}\\right) \\left(3 \\kappa + \\sqrt{- \\left(4 \\Omega - \\kappa\\right) \\left(4 \\Omega + \\kappa\\right)}\\right)}{4}\\right)}{\\Omega \\left(\\Omega^{2} + 3 \\kappa^{2}\\right) \\left(1 - \\frac{- 2 \\Omega^{2} + \\kappa^{2} - \\kappa \\sqrt{- 16 \\Omega^{2} + \\kappa^{2}}}{2 \\left(\\Omega^{2} + 3 \\kappa^{2}\\right)} - \\frac{\\left(- \\kappa + \\sqrt{- 16 \\Omega^{2} + \\kappa^{2}}\\right) \\left(- \\kappa \\left(2 \\Omega^{2} + \\kappa^{2}\\right) + \\frac{\\left(\\Omega^{2} + \\kappa^{2}\\right) \\left(3 \\kappa + \\sqrt{- \\left(4 \\Omega - \\kappa\\right) \\left(4 \\Omega + \\kappa\\right)}\\right)}{4}\\right)}{4 \\Omega^{2} \\left(\\Omega^{2} + 3 \\kappa^{2}\\right)} - \\frac{\\left(\\kappa - \\sqrt{- 16 \\Omega^{2} + \\kappa^{2}}\\right) \\left(\\kappa \\left(2 \\Omega^{2} + \\kappa^{2}\\right) - \\frac{\\left(\\Omega^{2} + \\kappa^{2}\\right) \\left(3 \\kappa + \\sqrt{- \\left(4 \\Omega - \\kappa\\right) \\left(4 \\Omega + \\kappa\\right)}\\right)}{4}\\right)}{4 \\Omega^{2} \\left(\\Omega^{2} + 3 \\kappa^{2}\\right)}\\right)} & \\frac{1}{1 - \\frac{- 2 \\Omega^{2} + \\kappa^{2} - \\kappa \\sqrt{- 16 \\Omega^{2} + \\kappa^{2}}}{2 \\left(\\Omega^{2} + 3 \\kappa^{2}\\right)} - \\frac{\\left(- \\kappa + \\sqrt{- 16 \\Omega^{2} + \\kappa^{2}}\\right) \\left(- \\kappa \\left(2 \\Omega^{2} + \\kappa^{2}\\right) + \\frac{\\left(\\Omega^{2} + \\kappa^{2}\\right) \\left(3 \\kappa + \\sqrt{- \\left(4 \\Omega - \\kappa\\right) \\left(4 \\Omega + \\kappa\\right)}\\right)}{4}\\right)}{4 \\Omega^{2} \\left(\\Omega^{2} + 3 \\kappa^{2}\\right)} - \\frac{\\left(\\kappa - \\sqrt{- 16 \\Omega^{2} + \\kappa^{2}}\\right) \\left(\\kappa \\left(2 \\Omega^{2} + \\kappa^{2}\\right) - \\frac{\\left(\\Omega^{2} + \\kappa^{2}\\right) \\left(3 \\kappa + \\sqrt{- \\left(4 \\Omega - \\kappa\\right) \\left(4 \\Omega + \\kappa\\right)}\\right)}{4}\\right)}{4 \\Omega^{2} \\left(\\Omega^{2} + 3 \\kappa^{2}\\right)}}\\\\\\frac{- 2 \\Omega^{2} + \\kappa^{2} + \\kappa \\sqrt{- 16 \\Omega^{2} + \\kappa^{2}}}{2 \\left(\\Omega^{2} + 3 \\kappa^{2}\\right) \\left(1 - \\frac{- 2 \\Omega^{2} + \\kappa^{2} + \\kappa \\sqrt{- 16 \\Omega^{2} + \\kappa^{2}}}{2 \\left(\\Omega^{2} + 3 \\kappa^{2}\\right)} - \\frac{\\left(- \\kappa - \\sqrt{- 16 \\Omega^{2} + \\kappa^{2}}\\right) \\left(- \\kappa \\left(2 \\Omega^{2} + \\kappa^{2}\\right) + \\frac{\\left(\\Omega^{2} + \\kappa^{2}\\right) \\left(3 \\kappa - \\sqrt{- \\left(4 \\Omega - \\kappa\\right) \\left(4 \\Omega + \\kappa\\right)}\\right)}{4}\\right)}{4 \\Omega^{2} \\left(\\Omega^{2} + 3 \\kappa^{2}\\right)} - \\frac{\\left(\\kappa + \\sqrt{- 16 \\Omega^{2} + \\kappa^{2}}\\right) \\left(\\kappa \\left(2 \\Omega^{2} + \\kappa^{2}\\right) - \\frac{\\left(\\Omega^{2} + \\kappa^{2}\\right) \\left(3 \\kappa - \\sqrt{- \\left(4 \\Omega - \\kappa\\right) \\left(4 \\Omega + \\kappa\\right)}\\right)}{4}\\right)}{4 \\Omega^{2} \\left(\\Omega^{2} + 3 \\kappa^{2}\\right)}\\right)} & \\frac{i \\left(\\kappa \\left(2 \\Omega^{2} + \\kappa^{2}\\right) - \\frac{\\left(\\Omega^{2} + \\kappa^{2}\\right) \\left(3 \\kappa - \\sqrt{- \\left(4 \\Omega - \\kappa\\right) \\left(4 \\Omega + \\kappa\\right)}\\right)}{4}\\right)}{\\Omega \\left(\\Omega^{2} + 3 \\kappa^{2}\\right) \\left(1 - \\frac{- 2 \\Omega^{2} + \\kappa^{2} + \\kappa \\sqrt{- 16 \\Omega^{2} + \\kappa^{2}}}{2 \\left(\\Omega^{2} + 3 \\kappa^{2}\\right)} - \\frac{\\left(- \\kappa - \\sqrt{- 16 \\Omega^{2} + \\kappa^{2}}\\right) \\left(- \\kappa \\left(2 \\Omega^{2} + \\kappa^{2}\\right) + \\frac{\\left(\\Omega^{2} + \\kappa^{2}\\right) \\left(3 \\kappa - \\sqrt{- \\left(4 \\Omega - \\kappa\\right) \\left(4 \\Omega + \\kappa\\right)}\\right)}{4}\\right)}{4 \\Omega^{2} \\left(\\Omega^{2} + 3 \\kappa^{2}\\right)} - \\frac{\\left(\\kappa + \\sqrt{- 16 \\Omega^{2} + \\kappa^{2}}\\right) \\left(\\kappa \\left(2 \\Omega^{2} + \\kappa^{2}\\right) - \\frac{\\left(\\Omega^{2} + \\kappa^{2}\\right) \\left(3 \\kappa - \\sqrt{- \\left(4 \\Omega - \\kappa\\right) \\left(4 \\Omega + \\kappa\\right)}\\right)}{4}\\right)}{4 \\Omega^{2} \\left(\\Omega^{2} + 3 \\kappa^{2}\\right)}\\right)} & \\frac{i \\left(- \\kappa \\left(2 \\Omega^{2} + \\kappa^{2}\\right) + \\frac{\\left(\\Omega^{2} + \\kappa^{2}\\right) \\left(3 \\kappa - \\sqrt{- \\left(4 \\Omega - \\kappa\\right) \\left(4 \\Omega + \\kappa\\right)}\\right)}{4}\\right)}{\\Omega \\left(\\Omega^{2} + 3 \\kappa^{2}\\right) \\left(1 - \\frac{- 2 \\Omega^{2} + \\kappa^{2} + \\kappa \\sqrt{- 16 \\Omega^{2} + \\kappa^{2}}}{2 \\left(\\Omega^{2} + 3 \\kappa^{2}\\right)} - \\frac{\\left(- \\kappa - \\sqrt{- 16 \\Omega^{2} + \\kappa^{2}}\\right) \\left(- \\kappa \\left(2 \\Omega^{2} + \\kappa^{2}\\right) + \\frac{\\left(\\Omega^{2} + \\kappa^{2}\\right) \\left(3 \\kappa - \\sqrt{- \\left(4 \\Omega - \\kappa\\right) \\left(4 \\Omega + \\kappa\\right)}\\right)}{4}\\right)}{4 \\Omega^{2} \\left(\\Omega^{2} + 3 \\kappa^{2}\\right)} - \\frac{\\left(\\kappa + \\sqrt{- 16 \\Omega^{2} + \\kappa^{2}}\\right) \\left(\\kappa \\left(2 \\Omega^{2} + \\kappa^{2}\\right) - \\frac{\\left(\\Omega^{2} + \\kappa^{2}\\right) \\left(3 \\kappa - \\sqrt{- \\left(4 \\Omega - \\kappa\\right) \\left(4 \\Omega + \\kappa\\right)}\\right)}{4}\\right)}{4 \\Omega^{2} \\left(\\Omega^{2} + 3 \\kappa^{2}\\right)}\\right)} & \\frac{1}{1 - \\frac{- 2 \\Omega^{2} + \\kappa^{2} + \\kappa \\sqrt{- 16 \\Omega^{2} + \\kappa^{2}}}{2 \\left(\\Omega^{2} + 3 \\kappa^{2}\\right)} - \\frac{\\left(- \\kappa - \\sqrt{- 16 \\Omega^{2} + \\kappa^{2}}\\right) \\left(- \\kappa \\left(2 \\Omega^{2} + \\kappa^{2}\\right) + \\frac{\\left(\\Omega^{2} + \\kappa^{2}\\right) \\left(3 \\kappa - \\sqrt{- \\left(4 \\Omega - \\kappa\\right) \\left(4 \\Omega + \\kappa\\right)}\\right)}{4}\\right)}{4 \\Omega^{2} \\left(\\Omega^{2} + 3 \\kappa^{2}\\right)} - \\frac{\\left(\\kappa + \\sqrt{- 16 \\Omega^{2} + \\kappa^{2}}\\right) \\left(\\kappa \\left(2 \\Omega^{2} + \\kappa^{2}\\right) - \\frac{\\left(\\Omega^{2} + \\kappa^{2}\\right) \\left(3 \\kappa - \\sqrt{- \\left(4 \\Omega - \\kappa\\right) \\left(4 \\Omega + \\kappa\\right)}\\right)}{4}\\right)}{4 \\Omega^{2} \\left(\\Omega^{2} + 3 \\kappa^{2}\\right)}}\\end{matrix}\\right]$"
      ],
      "text/plain": [
       "Matrix([\n",
       "[                                                                                                                                                                                                                                                                                                                                                                                                                                                                                                                               1/((1 + kappa**2/\\Omega**2)/(2 + kappa**2/\\Omega**2) + 1/(2 + kappa**2/\\Omega**2)),                                                                                                                                                                                                                                                                                                                                                                                                                                                                                                                                                                                                                                                                            0,                                                                                                                                                                                                                                                                                                                                                                                                                                                                                                                                                                                                                                                                             0,                                                                                                                                                                                                                                                                                                                                                                                                                                    1/((1 + kappa**2/\\Omega**2)/(2 + kappa**2/\\Omega**2) + 1/(2 + kappa**2/\\Omega**2))],\n",
       "[                                                                                                                                                                                                                                                                                                                                                                                                                                                                                                                                                                                                                0,                                                                                                                                                                                                                                                                                                                                                                                                                                                                                                                                                                                                                                                                          1/2,                                                                                                                                                                                                                                                                                                                                                                                                                                                                                                                                                                                                                                                                           1/2,                                                                                                                                                                                                                                                                                                                                                                                                                                                                                                                     0],\n",
       "[(-2*\\Omega**2 + kappa**2 - kappa*sqrt(-16*\\Omega**2 + kappa**2))/(2*(\\Omega**2 + 3*kappa**2)*(1 - (-2*\\Omega**2 + kappa**2 - kappa*sqrt(-16*\\Omega**2 + kappa**2))/(2*(\\Omega**2 + 3*kappa**2)) - (-kappa + sqrt(-16*\\Omega**2 + kappa**2))*(-kappa*(2*\\Omega**2 + kappa**2) + (\\Omega**2 + kappa**2)*(3*kappa + sqrt(-(4*\\Omega - kappa)*(4*\\Omega + kappa)))/4)/(4*\\Omega**2*(\\Omega**2 + 3*kappa**2)) - (kappa - sqrt(-16*\\Omega**2 + kappa**2))*(kappa*(2*\\Omega**2 + kappa**2) - (\\Omega**2 + kappa**2)*(3*kappa + sqrt(-(4*\\Omega - kappa)*(4*\\Omega + kappa)))/4)/(4*\\Omega**2*(\\Omega**2 + 3*kappa**2)))), I*(kappa*(2*\\Omega**2 + kappa**2) - (\\Omega**2 + kappa**2)*(3*kappa + sqrt(-(4*\\Omega - kappa)*(4*\\Omega + kappa)))/4)/(\\Omega*(\\Omega**2 + 3*kappa**2)*(1 - (-2*\\Omega**2 + kappa**2 - kappa*sqrt(-16*\\Omega**2 + kappa**2))/(2*(\\Omega**2 + 3*kappa**2)) - (-kappa + sqrt(-16*\\Omega**2 + kappa**2))*(-kappa*(2*\\Omega**2 + kappa**2) + (\\Omega**2 + kappa**2)*(3*kappa + sqrt(-(4*\\Omega - kappa)*(4*\\Omega + kappa)))/4)/(4*\\Omega**2*(\\Omega**2 + 3*kappa**2)) - (kappa - sqrt(-16*\\Omega**2 + kappa**2))*(kappa*(2*\\Omega**2 + kappa**2) - (\\Omega**2 + kappa**2)*(3*kappa + sqrt(-(4*\\Omega - kappa)*(4*\\Omega + kappa)))/4)/(4*\\Omega**2*(\\Omega**2 + 3*kappa**2)))), I*(-kappa*(2*\\Omega**2 + kappa**2) + (\\Omega**2 + kappa**2)*(3*kappa + sqrt(-(4*\\Omega - kappa)*(4*\\Omega + kappa)))/4)/(\\Omega*(\\Omega**2 + 3*kappa**2)*(1 - (-2*\\Omega**2 + kappa**2 - kappa*sqrt(-16*\\Omega**2 + kappa**2))/(2*(\\Omega**2 + 3*kappa**2)) - (-kappa + sqrt(-16*\\Omega**2 + kappa**2))*(-kappa*(2*\\Omega**2 + kappa**2) + (\\Omega**2 + kappa**2)*(3*kappa + sqrt(-(4*\\Omega - kappa)*(4*\\Omega + kappa)))/4)/(4*\\Omega**2*(\\Omega**2 + 3*kappa**2)) - (kappa - sqrt(-16*\\Omega**2 + kappa**2))*(kappa*(2*\\Omega**2 + kappa**2) - (\\Omega**2 + kappa**2)*(3*kappa + sqrt(-(4*\\Omega - kappa)*(4*\\Omega + kappa)))/4)/(4*\\Omega**2*(\\Omega**2 + 3*kappa**2)))), 1/(1 - (-2*\\Omega**2 + kappa**2 - kappa*sqrt(-16*\\Omega**2 + kappa**2))/(2*(\\Omega**2 + 3*kappa**2)) - (-kappa + sqrt(-16*\\Omega**2 + kappa**2))*(-kappa*(2*\\Omega**2 + kappa**2) + (\\Omega**2 + kappa**2)*(3*kappa + sqrt(-(4*\\Omega - kappa)*(4*\\Omega + kappa)))/4)/(4*\\Omega**2*(\\Omega**2 + 3*kappa**2)) - (kappa - sqrt(-16*\\Omega**2 + kappa**2))*(kappa*(2*\\Omega**2 + kappa**2) - (\\Omega**2 + kappa**2)*(3*kappa + sqrt(-(4*\\Omega - kappa)*(4*\\Omega + kappa)))/4)/(4*\\Omega**2*(\\Omega**2 + 3*kappa**2)))],\n",
       "[(-2*\\Omega**2 + kappa**2 + kappa*sqrt(-16*\\Omega**2 + kappa**2))/(2*(\\Omega**2 + 3*kappa**2)*(1 - (-2*\\Omega**2 + kappa**2 + kappa*sqrt(-16*\\Omega**2 + kappa**2))/(2*(\\Omega**2 + 3*kappa**2)) - (-kappa - sqrt(-16*\\Omega**2 + kappa**2))*(-kappa*(2*\\Omega**2 + kappa**2) + (\\Omega**2 + kappa**2)*(3*kappa - sqrt(-(4*\\Omega - kappa)*(4*\\Omega + kappa)))/4)/(4*\\Omega**2*(\\Omega**2 + 3*kappa**2)) - (kappa + sqrt(-16*\\Omega**2 + kappa**2))*(kappa*(2*\\Omega**2 + kappa**2) - (\\Omega**2 + kappa**2)*(3*kappa - sqrt(-(4*\\Omega - kappa)*(4*\\Omega + kappa)))/4)/(4*\\Omega**2*(\\Omega**2 + 3*kappa**2)))), I*(kappa*(2*\\Omega**2 + kappa**2) - (\\Omega**2 + kappa**2)*(3*kappa - sqrt(-(4*\\Omega - kappa)*(4*\\Omega + kappa)))/4)/(\\Omega*(\\Omega**2 + 3*kappa**2)*(1 - (-2*\\Omega**2 + kappa**2 + kappa*sqrt(-16*\\Omega**2 + kappa**2))/(2*(\\Omega**2 + 3*kappa**2)) - (-kappa - sqrt(-16*\\Omega**2 + kappa**2))*(-kappa*(2*\\Omega**2 + kappa**2) + (\\Omega**2 + kappa**2)*(3*kappa - sqrt(-(4*\\Omega - kappa)*(4*\\Omega + kappa)))/4)/(4*\\Omega**2*(\\Omega**2 + 3*kappa**2)) - (kappa + sqrt(-16*\\Omega**2 + kappa**2))*(kappa*(2*\\Omega**2 + kappa**2) - (\\Omega**2 + kappa**2)*(3*kappa - sqrt(-(4*\\Omega - kappa)*(4*\\Omega + kappa)))/4)/(4*\\Omega**2*(\\Omega**2 + 3*kappa**2)))), I*(-kappa*(2*\\Omega**2 + kappa**2) + (\\Omega**2 + kappa**2)*(3*kappa - sqrt(-(4*\\Omega - kappa)*(4*\\Omega + kappa)))/4)/(\\Omega*(\\Omega**2 + 3*kappa**2)*(1 - (-2*\\Omega**2 + kappa**2 + kappa*sqrt(-16*\\Omega**2 + kappa**2))/(2*(\\Omega**2 + 3*kappa**2)) - (-kappa - sqrt(-16*\\Omega**2 + kappa**2))*(-kappa*(2*\\Omega**2 + kappa**2) + (\\Omega**2 + kappa**2)*(3*kappa - sqrt(-(4*\\Omega - kappa)*(4*\\Omega + kappa)))/4)/(4*\\Omega**2*(\\Omega**2 + 3*kappa**2)) - (kappa + sqrt(-16*\\Omega**2 + kappa**2))*(kappa*(2*\\Omega**2 + kappa**2) - (\\Omega**2 + kappa**2)*(3*kappa - sqrt(-(4*\\Omega - kappa)*(4*\\Omega + kappa)))/4)/(4*\\Omega**2*(\\Omega**2 + 3*kappa**2)))), 1/(1 - (-2*\\Omega**2 + kappa**2 + kappa*sqrt(-16*\\Omega**2 + kappa**2))/(2*(\\Omega**2 + 3*kappa**2)) - (-kappa - sqrt(-16*\\Omega**2 + kappa**2))*(-kappa*(2*\\Omega**2 + kappa**2) + (\\Omega**2 + kappa**2)*(3*kappa - sqrt(-(4*\\Omega - kappa)*(4*\\Omega + kappa)))/4)/(4*\\Omega**2*(\\Omega**2 + 3*kappa**2)) - (kappa + sqrt(-16*\\Omega**2 + kappa**2))*(kappa*(2*\\Omega**2 + kappa**2) - (\\Omega**2 + kappa**2)*(3*kappa - sqrt(-(4*\\Omega - kappa)*(4*\\Omega + kappa)))/4)/(4*\\Omega**2*(\\Omega**2 + 3*kappa**2)))]])"
      ]
     },
     "metadata": {},
     "output_type": "display_data"
    },
    {
     "data": {
      "text/latex": [
       "$\\displaystyle \\left[\\begin{matrix}0 & - \\frac{\\kappa}{2} & - \\frac{3 \\kappa}{4} - \\frac{\\sqrt{- \\left(4 \\Omega - \\kappa\\right) \\left(4 \\Omega + \\kappa\\right)}}{4} & - \\frac{3 \\kappa}{4} + \\frac{\\sqrt{- \\left(4 \\Omega - \\kappa\\right) \\left(4 \\Omega + \\kappa\\right)}}{4}\\end{matrix}\\right]$"
      ],
      "text/plain": [
       "Matrix([[0, -kappa/2, -3*kappa/4 - sqrt(-(4*\\Omega - kappa)*(4*\\Omega + kappa))/4, -3*kappa/4 + sqrt(-(4*\\Omega - kappa)*(4*\\Omega + kappa))/4]])"
      ]
     },
     "metadata": {},
     "output_type": "display_data"
    },
    {
     "name": "stdout",
     "output_type": "stream",
     "text": [
      "First order pertubation correction\n"
     ]
    },
    {
     "data": {
      "text/latex": [
       "$\\displaystyle \\left[\\begin{matrix}0\\end{matrix}\\right]$"
      ],
      "text/plain": [
       "Matrix([[0]])"
      ]
     },
     "metadata": {},
     "output_type": "display_data"
    },
    {
     "name": "stdout",
     "output_type": "stream",
     "text": [
      "Quantum Fisher Information\n"
     ]
    },
    {
     "data": {
      "text/latex": [
       "$\\displaystyle \\left[\\begin{matrix}\\frac{4 T}{\\kappa}\\end{matrix}\\right]$"
      ],
      "text/plain": [
       "Matrix([[4*T/kappa]])"
      ]
     },
     "metadata": {},
     "output_type": "display_data"
    }
   ],
   "source": [
    "L_Omega_1 = sp.Matrix([ [0,                     I*Delta_Omega_1/2,     -I*Delta_Omega_2/2,      0                   ],\n",
    "                        [I*Delta_Omega_1/2,    0,                      0,                      -I*Delta_Omega_2/2   ], \n",
    "                        [-I*Delta_Omega_2/2,             0,                      0,              I*Delta_Omega_1/2  ],\n",
    "                        [0,                     -I*Delta_Omega_2/2,      I*Delta_Omega_1/2,     0                   ]])\n",
    "\n",
    "L_Omega_0 = sp.Matrix([ [0,            I*Omega/2,     -I*Omega/2,      kappa           ],\n",
    "                        [I*Omega/2,   -kappa/2,       0,              -I*Omega/2       ], \n",
    "                        [-I*Omega/2,    0,              -kappa/2,       I*Omega/2      ],\n",
    "                        [0,            -I*Omega/2,      I*Omega/2,     -kappa          ]])\n",
    "\n",
    "R_0, D_0 = L_Omega_0.diagonalize()\n",
    "\n",
    "V_0, _ = (L_Omega_0.T).diagonalize()\n",
    "V_0 = V_0.T\n",
    "\n",
    "\n",
    "print('R_0')\n",
    "display(R_0)\n",
    "print('V_0')\n",
    "display(V_0)\n",
    "\n",
    "lambda_n_0 = D_0.diagonal()\n",
    "\n",
    "\n",
    "def normalize(V, R):\n",
    "    M_R = sp.Matrix([[]])\n",
    "    M_V = sp.Matrix([[]])\n",
    "    for i in range(R.shape[1]):\n",
    "        norm_factor = (R.col(i)[0] + R.col(i)[3])\n",
    "        if norm_factor == 0:\n",
    "            norm_factor = 1\n",
    "        M_R = M_R.col_insert(i, R.col(i) / norm_factor)\n",
    "\n",
    "    \n",
    "    norm_factor = V * M_R\n",
    "    for i in range(V.shape[0]):\n",
    "        M_V = M_V.row_insert(i, V.row(i) / norm_factor.row(i)[i])\n",
    "    \n",
    "\n",
    "    return M_V, M_R\n",
    "\n",
    "V_0, R_0 = normalize(V_0, R_0)\n",
    "print('R_0 normalized')\n",
    "display(R_0)\n",
    "print('V_0 normalized')\n",
    "display(V_0)\n",
    "display(lambda_n_0)\n",
    "\n",
    "def first_order_pertubation_eigenval_correction(V_0, L_Omega_1, R_0, n=None):\n",
    "    eigenvals = []\n",
    "    if n == None:\n",
    "        for i in range(R_0.shape[1]):\n",
    "            correction = V_0.row(i) * L_Omega_1 * R_0.col(i)\n",
    "            \n",
    "            eigenvals.append(correction[0])\n",
    "    else:\n",
    "        correction = V_0.row(n) * L_Omega_1 * R_0.col(n)\n",
    "            \n",
    "        eigenvals.append(correction[0])\n",
    "\n",
    "    eigenvals = sp.Matrix(eigenvals)\n",
    "    return eigenvals\n",
    "\n",
    "lambda_n_1 = first_order_pertubation_eigenval_correction(V_0, L_Omega_1, R_0, n=0)\n",
    "\n",
    "print('First order pertubation correction')\n",
    "display(lambda_n_1)\n",
    "\n",
    "\n",
    "def second_order_pertubation_eigenval_correction(V_0, L_Omega_1, R_0, n=None):\n",
    "    eigenvals = []\n",
    "    if n == None:\n",
    "        for i in range(R_0.shape[1]):\n",
    "            correction = 0\n",
    "            for j in range(R_0.shape[1]):\n",
    "                if i != j:\n",
    "                    correction += (V_0.row(i) * L_Omega_1 * R_0.col(j) * V_0.row(j) * L_Omega_1 * R_0.col(i) / (lambda_n_0[i] - lambda_n_0[j]))[0]\n",
    "            \n",
    "            eigenvals.append(correction)\n",
    "    else:\n",
    "        correction = 0\n",
    "        for j in range(R_0.shape[1]):\n",
    "            if n != j:\n",
    "                correction += (V_0.row(n) * L_Omega_1 * R_0.col(j) * V_0.row(j) * L_Omega_1 * R_0.col(n) / (lambda_n_0[n] - lambda_n_0[j]))[0]\n",
    "            \n",
    "        eigenvals.append(correction)\n",
    "    eigenvals = sp.Matrix(eigenvals)\n",
    "    return eigenvals\n",
    "\n",
    "def second_order_pertubation_eigenval_correction(V_0, L_diff, R_0, lambda_n_0, n=None):\n",
    "    eigenvals = []\n",
    "    if n == None:\n",
    "        for i in range(R_0.shape[1]):\n",
    "            correction = 0\n",
    "            for j in range(R_0.shape[1]):\n",
    "                if i != j:\n",
    "                    correction += (V_0.row(i) * L_diff * R_0.col(j) * V_0.row(j) * L_diff * R_0.col(i) / (lambda_n_0[i] - lambda_n_0[j]))[0]\n",
    "            \n",
    "            eigenvals.append(correction)\n",
    "    else:\n",
    "        correction = 0\n",
    "        for j in range(R_0.shape[1]):\n",
    "            \n",
    "            if n != j:\n",
    "                \n",
    "                #display((V_0.row(n) * L_diff * R_0.col(j) * V_0.row(j) * L_diff * R_0.col(n) / (lambda_n_0[n] - lambda_n_0[j]))[0])\n",
    "                correction += ((V_0.row(n) * L_diff * R_0.col(j)) * (V_0.row(j) * L_diff * R_0.col(n)) / (lambda_n_0[n] - lambda_n_0[j]))[0]\n",
    "            \n",
    "        eigenvals.append(correction)\n",
    "    eigenvals = sp.Matrix(eigenvals)\n",
    "    return eigenvals\n",
    "\n",
    "lambda_n_2 = second_order_pertubation_eigenval_correction(V_0, L_Omega_1, R_0, lambda_n_0, n=0)\n",
    "lambda_n_2 = sp.simplify(lambda_n_2)\n",
    "\n",
    "\n",
    "\n",
    "\n",
    "lambda_s = lambda_n_1 + lambda_n_2\n",
    "#print('Second order pertubation correction')\n",
    "#display(sp.simplify(lambda_n_2))\n",
    "\n",
    "def Calculate_quantum_fisher_information(lambda_s):\n",
    "    \n",
    "    lambda_s_dif = sp.diff(lambda_s, Delta_Omega_1)\n",
    "    lambda_s_dif_dif = sp.diff(lambda_s_dif, Delta_Omega_2)\n",
    "    #display(lambda_s_dif_dif)\n",
    "    lambda_s_dif_dif = lambda_s_dif_dif.subs(Delta_Omega_1, 0)\n",
    "    lambda_s_dif_dif = lambda_s_dif_dif.subs(Delta_Omega_2, 0)\n",
    "    QFI = 4 * T * sp.simplify(lambda_s_dif_dif)\n",
    "\n",
    "    return QFI\n",
    "\n",
    "QFI = Calculate_quantum_fisher_information(lambda_n_2)\n",
    "print('Quantum Fisher Information')\n",
    "display(QFI)\n",
    "\n"
   ]
  },
  {
   "cell_type": "markdown",
   "metadata": {},
   "source": [
    "# Full Stack calculation"
   ]
  },
  {
   "cell_type": "markdown",
   "metadata": {},
   "source": [
    "The Idear here is that one inputs the hamilton and the decay oporators and the sensing variables, and gets a 2nd order estiamte of the QFI\n",
    "for this to work, here is some psudo code\n",
    "\n",
    "1. Make L matrix from Hamilton and decay oporators\n",
    "2. Find eigenvectors and choose the steady state eigenval and vector\n",
    "3. Make L_delta matrixes \n",
    "4. Calculate corrections to steadystate eigenvalue\n",
    "5. Calculate QFI from the seatdystate eigenvalue correection"
   ]
  },
  {
   "cell_type": "code",
   "execution_count": null,
   "metadata": {},
   "outputs": [],
   "source": [
    "from sympy.physics.quantum import TensorProduct, Dagger\n",
    "\n",
    "def T_product(A, B):\n",
    "    return TensorProduct(A, B.T)\n",
    "\n",
    "def vec_ing(H_left, H_rigth, c_left, c_rigth):\n",
    "    \n",
    "    N_dim = sp.shape(H_left)[0]\n",
    "    I_n = sp.eye(N_dim)\n",
    "    c_number = np.shape(c_left)[0]\n",
    "    c_vec = []\n",
    "    H_vec = -I * (T_product(H_left, I_n) - T_product(I_n, H_rigth))\n",
    "    for i in range(c_number):\n",
    "        c_vec.append(T_product(c_left[i], Dagger(c_rigth[i])) - 1/2 * (T_product(Dagger(c_left[i]) * c_left[i], I_n) + T_product(I_n, Dagger(c_rigth[i]) * c_rigth[i])))\n",
    "    return H_vec, c_vec\n",
    "\n",
    "def create_L_matrix(H_vec, c_vec):\n",
    "    N_dim = sp.shape(H_vec)[0]\n",
    "    c_number = np.shape(c_vec)[0]\n",
    "    L = H_vec\n",
    "    for i in range(c_number):\n",
    "        L += c_vec[i]\n",
    "    return L\n",
    "\n",
    "def gennerate_L(H_left, H_rigth, c_left, c_rigth):\n",
    "    H_vec, c_vec = vec_ing(H_left, H_rigth, c_left, c_rigth)\n",
    "    L = create_L_matrix(H_vec, c_vec)\n",
    "    return L\n",
    "\n",
    "\n",
    "def gennerate_L_diff(H_left, H_left_diff, H_rigth, H_rigth_diff, c_left, c_left_diff, c_rigth, c_rigth_diff):\n",
    "    L_diff = 0\n",
    "    return L_diff\n",
    "\n",
    "\n",
    "def make_new_var(var, left=True):\n",
    "    if left:\n",
    "        new_var = sp.Symbol('\\Delta' + '{' + str(var) + '}' + '_1', positive=True)\n",
    "    else:\n",
    "        new_var = sp.Symbol('\\Delta' + '{' + str(var) + '}' + '_2', positive=True)\n",
    "    return new_var\n",
    "\n",
    "def make_new_var_list(var):\n",
    "    new_var_list = []\n",
    "    for i in range(len(var)):\n",
    "        var_list = []\n",
    "        var_list.append(make_new_var(var[i], left=True))\n",
    "        var_list.append(make_new_var(var[i], left=False))\n",
    "        new_var_list.append(var_list)\n",
    "\n",
    "    return new_var_list\n",
    "\n",
    "def normalize(V, R):  ######################################### this is the special case for 2 level system\n",
    "                M_R = sp.Matrix([[]])\n",
    "                M_V = sp.Matrix([[]])\n",
    "\n",
    "                for i in range(R.shape[1]):\n",
    "                    norm_factor = (R.col(i)[0] + R.col(i)[3])\n",
    "                    if norm_factor == 0:\n",
    "                        norm_factor = 1\n",
    "                    M_R = M_R.col_insert(i, R.col(i) / norm_factor)\n",
    "\n",
    "                \n",
    "                norm_factor = V * M_R\n",
    "                for i in range(V.shape[0]):\n",
    "                    M_V = M_V.row_insert(i, V.row(i) / norm_factor.row(i)[i])\n",
    "                \n",
    "\n",
    "                return M_V, M_R\n",
    "\n",
    "\n",
    "def first_order_pertubation_eigenval_correction(V_0, L_diff, R_0, n=None):\n",
    "    eigenvals = []\n",
    "    if n == None:\n",
    "        for i in range(R_0.shape[1]):\n",
    "            correction = V_0.row(i) * L_diff * R_0.col(i)\n",
    "            \n",
    "            eigenvals.append(correction[0])\n",
    "    else:\n",
    "        correction = V_0.row(n) * L_diff * R_0.col(n)\n",
    "            \n",
    "        eigenvals.append(correction[0])\n",
    "\n",
    "    eigenvals = sp.Matrix(eigenvals)\n",
    "    return eigenvals\n",
    "\n",
    "\n",
    "def second_order_pertubation_eigenval_correction(V_0, L_diff, R_0, lambda_n_0, n=None):\n",
    "    eigenvals = []\n",
    "    if n == None:\n",
    "        for i in range(R_0.shape[1]):\n",
    "            correction = 0\n",
    "            for j in range(R_0.shape[1]):\n",
    "                if i != j:\n",
    "                    correction += (V_0.row(i) * L_diff * R_0.col(j) * V_0.row(j) * L_diff * R_0.col(i) / (lambda_n_0[i] - lambda_n_0[j]))[0]\n",
    "            \n",
    "            eigenvals.append(correction)\n",
    "    else:\n",
    "        correction = 0\n",
    "        for j in range(R_0.shape[1]):\n",
    "            \n",
    "            if n != j:\n",
    "                \n",
    "                #display((V_0.row(n) * L_diff * R_0.col(j) * V_0.row(j) * L_diff * R_0.col(n) / (lambda_n_0[n] - lambda_n_0[j]))[0])\n",
    "                correction += ((V_0.row(n) * L_diff * R_0.col(j)) * (V_0.row(j) * L_diff * R_0.col(n)) / (lambda_n_0[n] - lambda_n_0[j]))[0]\n",
    "            \n",
    "        eigenvals.append(correction)\n",
    "    eigenvals = sp.Matrix(eigenvals)\n",
    "    return eigenvals\n",
    "\n",
    "\n",
    "def Calculate_quantum_fisher_information(lambda_s, var_left, var_rigth):\n",
    "    \n",
    "    \n",
    "    lambda_s_dif = sp.diff(lambda_s, var_left)\n",
    "   \n",
    "    \n",
    "    lambda_s_dif_dif = sp.diff(lambda_s_dif, var_rigth)\n",
    "    \n",
    "\n",
    "    lambda_s_dif_dif = lambda_s_dif_dif.subs(var_left, 0)\n",
    "    \n",
    "    lambda_s_dif_dif = lambda_s_dif_dif.subs(var_rigth, 0)\n",
    "    \n",
    "    QFI = 4 * T * lambda_s_dif_dif\n",
    "    QFI = sp.simplify(QFI)\n",
    "    \n",
    "    \n",
    "    return QFI\n",
    "\n",
    "\n",
    "\n",
    "def Calculate_quantum_fisher_information_matrix_pertubation(H, c, var):\n",
    "    \"\"\"H must be a Hamiltonian matrix with sympy, and c numpy array with the collapse operators with sympy, and var is a numpy array with sympy symbols for the sensing perameters\"\"\"\n",
    "    from sympy.physics.quantum import TensorProduct, Dagger\n",
    "    from sympy import I\n",
    "    T = sp.symbols('T', positive=True)\n",
    "    L = gennerate_L(H, H, c, c)\n",
    "\n",
    "    L = L.conjugate()\n",
    "    \n",
    "    display(L)\n",
    "    \n",
    "\n",
    "    N_dim = len(var)\n",
    "    c_number = len(c)\n",
    "\n",
    "    QFI = sp.zeros(N_dim, N_dim)\n",
    "\n",
    "    new_var_list = make_new_var_list(var)\n",
    "    \n",
    "    \n",
    "\n",
    "    R_0, D_0 = L.diagonalize()\n",
    "\n",
    "    V_0, _ = (L.T).diagonalize()\n",
    "    V_0 = V_0.T\n",
    "\n",
    "    #print('R_0')\n",
    "    #display(R_0)\n",
    "    #print('V_0')\n",
    "    #display(V_0)\n",
    "\n",
    "\n",
    "    lambda_n_0 = D_0.diagonal()\n",
    "    #V_0, R_0 = normalize(V_0, R_0)\n",
    "\n",
    "    print('R_0 normalized')\n",
    "    display(R_0.col(0))\n",
    "    print('V_0 normalized')\n",
    "    display(V_0.row(0))\n",
    "\n",
    "    #print('R_0 normalized')\n",
    "    #display(sp.simplify(R_0))\n",
    "    #print('V_0 normalized')\n",
    "    #display(V_0)\n",
    "\n",
    "\n",
    "    for i in range(N_dim):\n",
    "        sym_left = sp.Symbol('\\Delta' + '{' + str(var[i]) + '}' + '_1', positive=True)\n",
    "        \n",
    "        \n",
    "        H_left = H * 1\n",
    "        c_left = c * 1\n",
    "        \n",
    "        for k in range(N_dim):\n",
    "            if i != k:\n",
    "                H_left = H_left.subs(var[k], 0)\n",
    "                for n in range(c_number):\n",
    "                    c_left[n] = c_left[n].subs(var[k], 0)\n",
    "            else:\n",
    "                H_left = H_left.subs(var[k], sym_left)\n",
    "                for n in range(c_number):\n",
    "                    c_left[n] = c_left[n].subs(var[k], sym_left)\n",
    "\n",
    "        #for n in range(c_number):\n",
    "        #    c_left[n] = c_left[n].subs(var[n], 0)\n",
    "        \n",
    "        \n",
    "        \n",
    "\n",
    "\n",
    "\n",
    "\n",
    "        for j in range(N_dim):\n",
    "            \n",
    "            sym_rigth = sp.Symbol('\\Delta' + '{' + str(var[j]) + '}' + '_2', positive=True)\n",
    "            H_rigth = H * 1\n",
    "            c_rigth = c * 1\n",
    "            for l in range(N_dim):\n",
    "                if j != l:\n",
    "                    H_rigth = H_rigth.subs(var[l], 0)\n",
    "                    for n in range(c_number):\n",
    "                        c_rigth[n] = c_rigth[n].subs(var[l], 0)\n",
    "                else:\n",
    "                    H_rigth = H_rigth.subs(var[l], sym_rigth)\n",
    "                    for n in range(c_number):\n",
    "                        c_rigth[n] = c_rigth[n].subs(var[l], sym_rigth)\n",
    "            \n",
    "            #for n in range(c_number):\n",
    "            #    c_rigth[n] = c_rigth[n].subs(var[n], 0)\n",
    "\n",
    "            \n",
    "            \n",
    "            \n",
    "            L_diff = gennerate_L(H_left, H_rigth, c_left, c_rigth)\n",
    "\n",
    "            \n",
    "            \n",
    "            \n",
    "            \n",
    "\n",
    "            \n",
    "\n",
    "            #print('lambda_n_0')\n",
    "            #display(lambda_n_0)\n",
    "            \n",
    "            lambda_n_1 = first_order_pertubation_eigenval_correction(V_0, L_diff, R_0, n=0)\n",
    "            \n",
    "            \n",
    "            \n",
    "\n",
    "            lambda_n_2 = second_order_pertubation_eigenval_correction(V_0, L_diff, R_0, lambda_n_0, n=0)\n",
    "            \n",
    "            #lambda_n_2 = sp.simplify(lambda_n_2)\n",
    "            \n",
    "            \n",
    "            #lambda_n_2 = sp.simplify(lambda_n_2)\n",
    "\n",
    "            lambda_s = lambda_n_1 + lambda_n_2\n",
    "\n",
    "            \n",
    "\n",
    "            \n",
    "            \n",
    "            \n",
    "\n",
    "\n",
    "            \n",
    "\n",
    "            QFI[i, j] = Calculate_quantum_fisher_information(lambda_s, sym_left, sym_rigth)\n",
    "\n",
    "            \n",
    "    \n",
    "    return QFI\n",
    "            \n",
    " \n",
    "\n",
    "def Calculate_quantum_fisher_information_matrix_pertubation_HF(H, c, var): #Hellman-Feynman theorem\n",
    "\n",
    "    from sympy import I\n",
    "    T = sp.symbols('T', positive=True)\n",
    "    L = gennerate_L(H, H, c, c)\n",
    "\n",
    "    print('R_0 eigenvector')\n",
    "    display(L.eigenvects())\n",
    "    #print('V_0 eigenvector')\n",
    "    #display(V_0)\n",
    "    \n",
    "    \n",
    "\n",
    "    size = sp.shape(L)[0]\n",
    "    N_dim = len(var)\n",
    "    c_number = len(c)\n",
    "\n",
    "    QFI = sp.zeros(N_dim, N_dim)\n",
    "\n",
    "    lambda_n_0 = 0\n",
    "\n",
    "    zero_vector = sp.zeros(size + 1, 1)\n",
    "    R_0 = sp.zeros(size, 1)\n",
    "    V_0 = sp.zeros(1, size)\n",
    "    var_list_R = []\n",
    "    var_list_L = []\n",
    "    equations_R = []\n",
    "    equations_L = []\n",
    "    for i in range(size):\n",
    "        var_list_R.append(sp.Symbol('var_R' + str(i)))\n",
    "        R_0[i] = var_list_R[i]\n",
    "        var_list_L.append(sp.Symbol('var_L' + str(i)))\n",
    "        V_0[i] = var_list_L[i]\n",
    "\n",
    "    \n",
    "\n",
    "    for i in range(size):\n",
    "        equations_R.append(0)\n",
    "        equations_L.append(0)\n",
    "        for j in range(size):\n",
    "            equations_R[i] += L[i, j] * R_0[j]\n",
    "            equations_L[i] += V_0[j] * L[i, j]\n",
    "\n",
    "        \n",
    "    ## Add normelasation condition\n",
    "    equations_R.append(-1)\n",
    "    for i in range(int(np.sqrt(size))):\n",
    "        equations_R[-1] += R_0[i * (int(np.sqrt(size)) + 1)] \n",
    "\n",
    "\n",
    "    R_s_m = sp.zeros(size, 1)\n",
    "    R_dict = sp.solve(equations_R, var_list_R, dict=True)[0]\n",
    "    R_dict_keys = list(R_dict.keys())\n",
    "\n",
    "    for i in range(size):\n",
    "        R_s_m[i] = R_dict[R_dict_keys[i]]\n",
    "    \n",
    "\n",
    "\n",
    "\n",
    "    equations_L.append(-1)\n",
    "    for i in range(size):\n",
    "        equations_L[-1] += V_0[i] * R_s_m[i]\n",
    "\n",
    "    V_s_m = sp.zeros(1, size)\n",
    "    V_dict = sp.solve(equations_L, var_list_L, dict=True)[0]\n",
    "    V_dict_keys = list(V_dict.keys())\n",
    "\n",
    "    for i in range(size):\n",
    "        V_s_m[i] = V_dict[V_dict_keys[i]]\n",
    "\n",
    "    \n",
    "    \n",
    "\n",
    "\n",
    "    for i in range(N_dim):\n",
    "        sym_left = sp.Symbol('\\Delta' + '{' + str(var[i]) + '}' + '_1', positive=True)\n",
    "        \n",
    "        \n",
    "        H_left = H * 1\n",
    "        c_left = c * 1\n",
    "        \n",
    "\n",
    "        for k in range(N_dim):\n",
    "            if i != k:\n",
    "                H_left = H_left.subs(var[k], 0)\n",
    "                for n in range(c_number):\n",
    "                    c_left[n] = c_left[n].subs(var[k], 0)\n",
    "            else:\n",
    "                H_left = H_left.subs(var[k], sym_left)\n",
    "                for n in range(c_number):\n",
    "                    c_left[n] = c_left[n].subs(var[k], sym_left)\n",
    "\n",
    "        #for n in range(c_number):\n",
    "        #    c_left[n] = c_left[n].subs(var[n], 0)\n",
    "        \n",
    "        \n",
    "        \n",
    "\n",
    "\n",
    "\n",
    "\n",
    "        for j in range(N_dim):\n",
    "            \n",
    "            sym_rigth = sp.Symbol('\\Delta' + '{' + str(var[j]) + '}' + '_2', positive=True)\n",
    "            H_rigth = H * 1\n",
    "            c_rigth = c * 1\n",
    "            for l in range(N_dim):\n",
    "                if j != l:\n",
    "                    H_rigth = H_rigth.subs(var[l], 0)\n",
    "                    for n in range(c_number):\n",
    "                        c_rigth[n] = c_rigth[n].subs(var[l], 0)\n",
    "                else:\n",
    "                    H_rigth = H_rigth.subs(var[l], sym_rigth)\n",
    "                    for n in range(c_number):\n",
    "                        c_rigth[n] = c_rigth[n].subs(var[l], sym_rigth)\n",
    "            \n",
    "            #for n in range(c_number):\n",
    "            #    c_rigth[n] = c_rigth[n].subs(var[n], 0)\n",
    "\n",
    "            \n",
    "            \n",
    "            \n",
    "            L_VR = gennerate_L(H_left, H_rigth, c_left, c_rigth)\n",
    "            print('L_VR')\n",
    "            display(L_VR)\n",
    "            R_VR, D_VR = L_VR.diagonalize()\n",
    "            print('R_VR')\n",
    "            display(R_VR)\n",
    "\n",
    "            L_diff = gennerate_L_diff()\n",
    "            print('L_diff')\n",
    "            display(L_diff)\n",
    "            R_0, D_0 = L_diff.diagonalize()\n",
    "            display(R_0)\n",
    "            \n",
    "\n",
    "            lambda_diff = V_s_m * L_diff * R_s_m\n",
    "            print('lambda_diff')\n",
    "            display(lambda_diff)\n",
    "            lambda_diff_diff = sp.diff(lambda_diff, sym_rigth)\n",
    "            lambda_diff_diff = lambda_diff_diff.subs(sym_left, var[i])\n",
    "            lambda_diff_diff = lambda_diff_diff.subs(sym_rigth, var[j])\n",
    "\n",
    "\n",
    "            QFI_ij = 4 * T * lambda_diff_diff\n",
    "            QFI_ij = sp.simplify(QFI_ij)\n",
    "            QFI[i, j] = QFI_ij\n",
    "\n",
    "    return QFI\n",
    "    \n",
    "\n",
    "    \n",
    "\n",
    "\n",
    " \n",
    "\n",
    "\n"
   ]
  },
  {
   "cell_type": "code",
   "execution_count": 6,
   "metadata": {},
   "outputs": [
    {
     "name": "stdout",
     "output_type": "stream",
     "text": [
      "R_0 eigenvector\n"
     ]
    },
    {
     "data": {
      "text/latex": [
       "$\\displaystyle \\left[\\begin{matrix}var_{R0}\\\\var_{R1}\\\\var_{R2}\\\\var_{R3}\\end{matrix}\\right]$"
      ],
      "text/plain": [
       "Matrix([\n",
       "[var_R0],\n",
       "[var_R1],\n",
       "[var_R2],\n",
       "[var_R3]])"
      ]
     },
     "metadata": {},
     "output_type": "display_data"
    },
    {
     "name": "stdout",
     "output_type": "stream",
     "text": [
      "V_0 eigenvector\n"
     ]
    },
    {
     "data": {
      "text/latex": [
       "$\\displaystyle \\left[\\begin{matrix}var_{L0} & var_{L1} & var_{L2} & var_{L3}\\end{matrix}\\right]$"
      ],
      "text/plain": [
       "Matrix([[var_L0, var_L1, var_L2, var_L3]])"
      ]
     },
     "metadata": {},
     "output_type": "display_data"
    },
    {
     "name": "stdout",
     "output_type": "stream",
     "text": [
      "L_VR\n"
     ]
    },
    {
     "data": {
      "text/latex": [
       "$\\displaystyle \\left[\\begin{matrix}0 & 0.5 i \\Delta{\\Omega}_2 & - 0.5 i \\Delta{\\Omega}_1 & 0\\\\0.5 i \\Delta{\\Omega}_2 & 0 & 0 & - 0.5 i \\Delta{\\Omega}_1\\\\- 0.5 i \\Delta{\\Omega}_1 & 0 & 0 & 0.5 i \\Delta{\\Omega}_2\\\\0 & - 0.5 i \\Delta{\\Omega}_1 & 0.5 i \\Delta{\\Omega}_2 & 0\\end{matrix}\\right]$"
      ],
      "text/plain": [
       "Matrix([\n",
       "[                      0,  0.5*I*\\Delta{\\Omega}_2, -0.5*I*\\Delta{\\Omega}_1,                       0],\n",
       "[ 0.5*I*\\Delta{\\Omega}_2,                       0,                       0, -0.5*I*\\Delta{\\Omega}_1],\n",
       "[-0.5*I*\\Delta{\\Omega}_1,                       0,                       0,  0.5*I*\\Delta{\\Omega}_2],\n",
       "[                      0, -0.5*I*\\Delta{\\Omega}_1,  0.5*I*\\Delta{\\Omega}_2,                       0]])"
      ]
     },
     "metadata": {},
     "output_type": "display_data"
    },
    {
     "name": "stdout",
     "output_type": "stream",
     "text": [
      "R_VR\n"
     ]
    },
    {
     "data": {
      "text/latex": [
       "$\\displaystyle \\left[\\begin{matrix}-1.0 & 1.0 & 1.0 & -1.0\\\\1.0 & 1.0 & -1.0 & -1.0\\\\-1.0 & 1.0 & -1.0 & 1.0\\\\1.0 & 1.0 & 1.0 & 1.0\\end{matrix}\\right]$"
      ],
      "text/plain": [
       "Matrix([\n",
       "[-1.0, 1.0,  1.0, -1.0],\n",
       "[ 1.0, 1.0, -1.0, -1.0],\n",
       "[-1.0, 1.0, -1.0,  1.0],\n",
       "[ 1.0, 1.0,  1.0,  1.0]])"
      ]
     },
     "metadata": {},
     "output_type": "display_data"
    },
    {
     "ename": "TypeError",
     "evalue": "gennerate_L_diff() missing 8 required positional arguments: 'H_left', 'H_left_diff', 'H_rigth', 'H_rigth_diff', 'c_left', 'c_left_diff', 'c_rigth', and 'c_rigth_diff'",
     "output_type": "error",
     "traceback": [
      "\u001b[0;31m---------------------------------------------------------------------------\u001b[0m",
      "\u001b[0;31mTypeError\u001b[0m                                 Traceback (most recent call last)",
      "Cell \u001b[0;32mIn[6], line 25\u001b[0m\n\u001b[1;32m     17\u001b[0m \u001b[38;5;66;03m#display(c[0])\u001b[39;00m\n\u001b[1;32m     18\u001b[0m \n\u001b[1;32m     19\u001b[0m \u001b[38;5;66;03m#display(Dagger(c[0]))\u001b[39;00m\n\u001b[1;32m     20\u001b[0m \n\u001b[1;32m     21\u001b[0m \u001b[38;5;66;03m#display(TensorProduct((c[0]), Dagger(c[0])))\u001b[39;00m\n\u001b[1;32m     23\u001b[0m var \u001b[38;5;241m=\u001b[39m [Omega, gamma]\n\u001b[0;32m---> 25\u001b[0m QFI_HF \u001b[38;5;241m=\u001b[39m Calculate_quantum_fisher_information_matrix_pertubation_HF(H, c, var)\n\u001b[1;32m     27\u001b[0m \u001b[38;5;66;03m#QFI = Calculate_quantum_fisher_information_matrix_pertubation(H, c, var)\u001b[39;00m\n\u001b[1;32m     30\u001b[0m \u001b[38;5;28mprint\u001b[39m(\u001b[38;5;124m'\u001b[39m\u001b[38;5;124mQuantum Fisher Information\u001b[39m\u001b[38;5;124m'\u001b[39m) \n",
      "Cell \u001b[0;32mIn[5], line 399\u001b[0m, in \u001b[0;36mCalculate_quantum_fisher_information_matrix_pertubation_HF\u001b[0;34m(H, c, var)\u001b[0m\n\u001b[1;32m    396\u001b[0m \u001b[38;5;28mprint\u001b[39m(\u001b[38;5;124m'\u001b[39m\u001b[38;5;124mR_VR\u001b[39m\u001b[38;5;124m'\u001b[39m)\n\u001b[1;32m    397\u001b[0m display(R_VR)\n\u001b[0;32m--> 399\u001b[0m L_diff \u001b[38;5;241m=\u001b[39m gennerate_L_diff()\n\u001b[1;32m    400\u001b[0m \u001b[38;5;28mprint\u001b[39m(\u001b[38;5;124m'\u001b[39m\u001b[38;5;124mL_diff\u001b[39m\u001b[38;5;124m'\u001b[39m)\n\u001b[1;32m    401\u001b[0m display(L_diff)\n",
      "\u001b[0;31mTypeError\u001b[0m: gennerate_L_diff() missing 8 required positional arguments: 'H_left', 'H_left_diff', 'H_rigth', 'H_rigth_diff', 'c_left', 'c_left_diff', 'c_rigth', and 'c_rigth_diff'"
     ]
    }
   ],
   "source": [
    "Omega = sp.Symbol('\\Omega', real=True)\n",
    "gamma = sp.Symbol('\\gamma', real=True, positive=True)\n",
    "T = sp.Symbol('T', real=True, positive=True)\n",
    "\n",
    "Delta = sp.Symbol('\\Delta', real=True)\n",
    "\n",
    "sigma_x = sp.Matrix([[0, 1/2], [1/2, 0]])\n",
    "sigma_m = sp.Matrix([[0, 1/2], [0, 0]])\n",
    "\n",
    "sigma_ee = sp.Matrix([[0, 0], [0, 1]])\n",
    "\n",
    "\n",
    "H = Omega * sigma_x #+ Delta * sigma_ee\n",
    "c = [gamma * 2 * sigma_m]\n",
    "\n",
    "\n",
    "#display(c[0])\n",
    "\n",
    "#display(Dagger(c[0]))\n",
    "\n",
    "#display(TensorProduct((c[0]), Dagger(c[0])))\n",
    "\n",
    "var = [Omega, gamma]\n",
    "\n",
    "QFI_HF = Calculate_quantum_fisher_information_matrix_pertubation_HF(H, c, var)\n",
    "\n",
    "#QFI = Calculate_quantum_fisher_information_matrix_pertubation(H, c, var)\n",
    "\n",
    "\n",
    "print('Quantum Fisher Information') \n",
    "display(QFI_HF)"
   ]
  },
  {
   "cell_type": "code",
   "execution_count": 7,
   "metadata": {},
   "outputs": [
    {
     "data": {
      "text/latex": [
       "$\\displaystyle 3$"
      ],
      "text/plain": [
       "3"
      ]
     },
     "metadata": {},
     "output_type": "display_data"
    },
    {
     "data": {
      "text/latex": [
       "$\\displaystyle \\kappa$"
      ],
      "text/plain": [
       "\\kappa"
      ]
     },
     "metadata": {},
     "output_type": "display_data"
    }
   ],
   "source": [
    "A = sp.Matrix([[3, 0], [1, 3]])\n",
    "\n",
    "display(A.row(0)[0])\n",
    "\n",
    "\n",
    "kappa = sp.Symbol('\\kappa', positive=True)\n",
    "\n",
    "display(sp.sqrt(kappa) * sp.conjugate(sp.sqrt(kappa)))\n",
    "\n"
   ]
  },
  {
   "cell_type": "code",
   "execution_count": 8,
   "metadata": {},
   "outputs": [
    {
     "data": {
      "text/latex": [
       "$\\displaystyle \\left[\\begin{matrix}0 & 0.5 i \\Omega & - 0.5 i \\Omega & 1.0 \\gamma\\\\0.5 i \\Omega & i \\Delta - 0.5 \\gamma & 0 & - 0.5 i \\Omega\\\\- 0.5 i \\Omega & 0 & - i \\Delta - 0.5 \\gamma & 0.5 i \\Omega\\\\0 & - 0.5 i \\Omega & 0.5 i \\Omega & - 1.0 \\gamma\\end{matrix}\\right]$"
      ],
      "text/plain": [
       "Matrix([\n",
       "[            0,          0.5*I*\\Omega,          -0.5*I*\\Omega,    1.0*\\gamma],\n",
       "[ 0.5*I*\\Omega, I*\\Delta - 0.5*\\gamma,                      0, -0.5*I*\\Omega],\n",
       "[-0.5*I*\\Omega,                     0, -I*\\Delta - 0.5*\\gamma,  0.5*I*\\Omega],\n",
       "[            0,         -0.5*I*\\Omega,           0.5*I*\\Omega,   -1.0*\\gamma]])"
      ]
     },
     "metadata": {},
     "output_type": "display_data"
    },
    {
     "data": {
      "text/latex": [
       "$\\displaystyle \\left[\\begin{matrix}0 & - \\frac{i \\Omega}{2} & \\frac{i \\Omega}{2} & \\gamma\\\\- \\frac{i \\Omega}{2} & - i \\Delta - \\frac{\\gamma}{2} & 0 & \\frac{i \\Omega}{2}\\\\\\frac{i \\Omega}{2} & 0 & i \\Delta - \\frac{\\gamma}{2} & - \\frac{i \\Omega}{2}\\\\0 & \\frac{i \\Omega}{2} & - \\frac{i \\Omega}{2} & - \\gamma\\end{matrix}\\right]$"
      ],
      "text/plain": [
       "Matrix([\n",
       "[          0,          -I*\\Omega/2,          I*\\Omega/2,      \\gamma],\n",
       "[-I*\\Omega/2, -I*\\Delta - \\gamma/2,                   0,  I*\\Omega/2],\n",
       "[ I*\\Omega/2,                    0, I*\\Delta - \\gamma/2, -I*\\Omega/2],\n",
       "[          0,           I*\\Omega/2,         -I*\\Omega/2,     -\\gamma]])"
      ]
     },
     "metadata": {},
     "output_type": "display_data"
    },
    {
     "data": {
      "text/latex": [
       "$\\displaystyle \\left[\\begin{matrix}0 & 1.0 i & - 1.0 i & 1.0\\\\1.0 i & -0.5 & 0 & - 1.0 i\\\\- 1.0 i & 0 & -0.5 & 1.0 i\\\\0 & - 1.0 i & 1.0 i & -1.0\\end{matrix}\\right]$"
      ],
      "text/plain": [
       "Matrix([\n",
       "[     0,  1.0*I, -1.0*I,    1.0],\n",
       "[ 1.0*I,   -0.5,      0, -1.0*I],\n",
       "[-1.0*I,      0,   -0.5,  1.0*I],\n",
       "[     0, -1.0*I,  1.0*I,   -1.0]])"
      ]
     },
     "metadata": {},
     "output_type": "display_data"
    },
    {
     "data": {
      "text/latex": [
       "$\\displaystyle \\left[\\begin{matrix}0 & - i & i & 1\\\\- i & - \\frac{1}{2} & 0 & i\\\\i & 0 & - \\frac{1}{2} & - i\\\\0 & i & - i & -1\\end{matrix}\\right]$"
      ],
      "text/plain": [
       "Matrix([\n",
       "[ 0,   -I,    I,  1],\n",
       "[-I, -1/2,    0,  I],\n",
       "[ I,    0, -1/2, -I],\n",
       "[ 0,    I,   -I, -1]])"
      ]
     },
     "metadata": {},
     "output_type": "display_data"
    },
    {
     "name": "stderr",
     "output_type": "stream",
     "text": [
      "/tmp/ipykernel_105107/948149531.py:77: DeprecationWarning: Conversion of an array with ndim > 0 to a scalar is deprecated, and will error in future. Ensure you extract a single element from your array before performing this operation. (Deprecated NumPy 1.25.)\n",
      "  rho_sigma_z[i] = sigma_z(rho_list[i])\n",
      "/tmp/ipykernel_105107/948149531.py:78: DeprecationWarning: Conversion of an array with ndim > 0 to a scalar is deprecated, and will error in future. Ensure you extract a single element from your array before performing this operation. (Deprecated NumPy 1.25.)\n",
      "  rho_sigma_z_2[i] = sigma_z(rho_list_2[i])\n",
      "/tmp/ipykernel_105107/948149531.py:79: DeprecationWarning: Conversion of an array with ndim > 0 to a scalar is deprecated, and will error in future. Ensure you extract a single element from your array before performing this operation. (Deprecated NumPy 1.25.)\n",
      "  rho_sigma_x[i] = sigma_x(rho_list[i])\n",
      "/tmp/ipykernel_105107/948149531.py:80: DeprecationWarning: Conversion of an array with ndim > 0 to a scalar is deprecated, and will error in future. Ensure you extract a single element from your array before performing this operation. (Deprecated NumPy 1.25.)\n",
      "  rho_sigma_x_2[i] = sigma_x(rho_list_2[i])\n",
      "/tmp/ipykernel_105107/948149531.py:81: DeprecationWarning: Conversion of an array with ndim > 0 to a scalar is deprecated, and will error in future. Ensure you extract a single element from your array before performing this operation. (Deprecated NumPy 1.25.)\n",
      "  rho_sigma_y[i] = sigma_y(rho_list[i])\n",
      "/tmp/ipykernel_105107/948149531.py:82: DeprecationWarning: Conversion of an array with ndim > 0 to a scalar is deprecated, and will error in future. Ensure you extract a single element from your array before performing this operation. (Deprecated NumPy 1.25.)\n",
      "  rho_sigma_y_2[i] = sigma_y(rho_list_2[i])\n"
     ]
    },
    {
     "data": {
      "text/latex": [
       "$\\displaystyle \\left[\\begin{matrix}0 & 1.0\\\\1.0 & 0\\end{matrix}\\right]$"
      ],
      "text/plain": [
       "Matrix([\n",
       "[  0, 1.0],\n",
       "[1.0,   0]])"
      ]
     },
     "metadata": {},
     "output_type": "display_data"
    },
    {
     "data": {
      "image/png": "[encoded data removed]",
      "text/plain": [
       "<Figure size 1500x500 with 3 Axes>"
      ]
     },
     "metadata": {},
     "output_type": "display_data"
    }
   ],
   "source": [
    "import matplotlib.pyplot as plt\n",
    "N_t = 100\n",
    "dt = 0.001\n",
    "\n",
    "t = np.linspace(0, N_t * dt, N_t)\n",
    "\n",
    "rabi = 2\n",
    "dec = 1\n",
    "detuning = 0\n",
    "\n",
    "Delta = sp.Symbol('\\Delta', real=True)\n",
    "\n",
    "H_test = H + Delta * sp.Matrix([[0, 0], [0, 1]])\n",
    "\n",
    "L_rabi = gennerate_L(H_test, H_test, c, c)\n",
    "\n",
    "display(L_rabi)\n",
    "\n",
    "L_Omega_0 = sp.Matrix([ [0,            -I*Omega/2,              I*Omega/2,              gamma           ],\n",
    "                        [-I*Omega/2,   -gamma/2 - I * Delta,    0,                      I*Omega/2       ], \n",
    "                        [I*Omega/2,    0,                       -gamma/2 + I * Delta,   -I*Omega/2      ],\n",
    "                        [0,            I*Omega/2,               -I*Omega/2,             -gamma          ]])\n",
    "\n",
    "L_rabi_2 = L_Omega_0\n",
    "display(L_rabi_2)\n",
    "L_rabi = L_rabi.subs(Omega, rabi)\n",
    "L_rabi = L_rabi.subs(gamma, dec)\n",
    "L_rabi = L_rabi.subs(Delta, detuning)\n",
    "\n",
    "L_rabi_2 = L_rabi_2.subs(Omega, rabi)\n",
    "L_rabi_2 = L_rabi_2.subs(gamma, dec)\n",
    "L_rabi_2 = L_rabi_2.subs(Delta, detuning)\n",
    "\n",
    "display(L_rabi)\n",
    "display(L_rabi_2)\n",
    "\n",
    "\n",
    "rho = sp.Matrix([1, 0, 0, 0])\n",
    "rho_list = [rho]\n",
    "\n",
    "rho_2 = sp.Matrix([1, 0, 0, 0])\n",
    "rho_list_2 = [rho_2]\n",
    "\n",
    "for i in range(N_t - 1):\n",
    "    rho = rho + dt * L_rabi * rho\n",
    "    \n",
    "    norm = (Dagger(rho) * rho)[0]\n",
    "    rho = rho / norm\n",
    "    rho_list.append(rho)\n",
    "    rho_2 = rho_2 + dt * L_rabi_2 * rho_2\n",
    "    norm = (Dagger(rho_2) * rho_2)[0]\n",
    "    rho_2 = rho_2 / norm\n",
    "    rho_list_2.append(rho_2)\n",
    "\n",
    "\n",
    "rho_list = np.array(rho_list)\n",
    "rho_list_2 = np.array(rho_list_2)\n",
    "\n",
    "def sigma_z(rho):\n",
    "    return rho[0] - rho[3]\n",
    "\n",
    "def sigma_x(rho):\n",
    "    return rho[1] + rho[2]\n",
    "\n",
    "def sigma_y(rho):\n",
    "    return I * rho[1] - I * rho[2]\n",
    "\n",
    "rho_sigma_z = np.zeros(N_t)\n",
    "rho_sigma_x = np.zeros(N_t)\n",
    "rho_sigma_y = np.zeros(N_t)\n",
    "rho_sigma_z_2 = np.zeros(N_t)\n",
    "rho_sigma_x_2 = np.zeros(N_t)\n",
    "rho_sigma_y_2 = np.zeros(N_t)\n",
    "\n",
    "for i in range(N_t):\n",
    "\n",
    "    rho_sigma_z[i] = sigma_z(rho_list[i])\n",
    "    rho_sigma_z_2[i] = sigma_z(rho_list_2[i])\n",
    "    rho_sigma_x[i] = sigma_x(rho_list[i])\n",
    "    rho_sigma_x_2[i] = sigma_x(rho_list_2[i])\n",
    "    rho_sigma_y[i] = sigma_y(rho_list[i])\n",
    "    rho_sigma_y_2[i] = sigma_y(rho_list_2[i])\n",
    "\n",
    "\n",
    "import qutip as qt\n",
    "\n",
    "\n",
    "H_rabi = H_test.subs(Omega, rabi)\n",
    "H_rabi = H_rabi.subs(gamma, dec)\n",
    "H_rabi = H_rabi.subs(Delta, detuning)\n",
    "\n",
    "c_rabi = c[0].subs(gamma, dec)\n",
    "\n",
    "display(H_rabi)\n",
    "\n",
    "H_qt = qt.Qobj(H_rabi)\n",
    "c_qt = [qt.Qobj(c_rabi)]\n",
    "rho_qt = qt.Qobj(sp.Matrix([[1, 0], [0, 0]]))\n",
    "\n",
    "\n",
    "resultat = qt.mesolve(H_qt, rho_qt, t, c_qt, [qt.sigmax(), qt.sigmay(), qt.sigmaz()])\n",
    "\n",
    "\n",
    "\n",
    "fig, ax = plt.subplots(ncols=3, figsize=(15, 5))\n",
    "\n",
    "ax[0].plot(t, rho_sigma_z, label='own z')\n",
    "\n",
    "ax[0].plot(t, rho_sigma_z_2, label='own 2 z')\n",
    "\n",
    "ax[1].plot(t, rho_sigma_x, label='own x')\n",
    "\n",
    "ax[1].plot(t, rho_sigma_x_2, label='own 2 x')\n",
    "\n",
    "ax[2].plot(t, rho_sigma_y, label='own y')\n",
    "\n",
    "ax[2].plot(t, rho_sigma_y_2, label='own 2 y')\n",
    "\n",
    "ax[0].plot(t, resultat.expect[2], label='qutip z')\n",
    "\n",
    "ax[1].plot(t, resultat.expect[0], label='qutip x')\n",
    "\n",
    "ax[2].plot(t, resultat.expect[1], label='qutip y')\n",
    "\n",
    "ax[0].legend()\n",
    "ax[1].legend()\n",
    "ax[2].legend()\n",
    "\n",
    "plt.show()\n",
    "\n",
    "\n"
   ]
  },
  {
   "cell_type": "code",
   "execution_count": 59,
   "metadata": {},
   "outputs": [
    {
     "name": "stdout",
     "output_type": "stream",
     "text": [
      "<class 'sympy.core.mul.Mul'>\n"
     ]
    },
    {
     "data": {
      "text/latex": [
       "$\\displaystyle \\left[\\begin{matrix}3\\end{matrix}\\right]$"
      ],
      "text/plain": [
       "Matrix([[3]])"
      ]
     },
     "metadata": {},
     "output_type": "display_data"
    },
    {
     "data": {
      "text/latex": [
       "$\\displaystyle \\left[\\begin{matrix}3\\end{matrix}\\right]$"
      ],
      "text/plain": [
       "Matrix([[3]])"
      ]
     },
     "metadata": {},
     "output_type": "display_data"
    },
    {
     "data": {
      "text/latex": [
       "$\\displaystyle \\left[\\begin{matrix}0 & 2\\\\3 & 4\\end{matrix}\\right]$"
      ],
      "text/plain": [
       "Matrix([\n",
       "[0, 2],\n",
       "[3, 4]])"
      ]
     },
     "metadata": {},
     "output_type": "display_data"
    }
   ],
   "source": [
    "var_1 = sp.Symbol('var_1', real=True)\n",
    "var_2 = sp.Symbol('var_2', real=True)\n",
    "\n",
    "\n",
    "expr = sp.Matrix([var_1 * 3])\n",
    "\n",
    "expr_dif = sp.diff(expr, var_1)\n",
    "\n",
    "expr_2 = expr.subs(var_1, var_2)\n",
    "\n",
    "print(type(expr_2[0]))\n",
    "\n",
    "expr_dif_2 = sp.diff(expr_2, var_2)\n",
    "\n",
    "display(expr_dif)\n",
    "display(expr_dif_2)\n",
    "\n",
    "\n",
    "\n",
    "M = sp.Matrix([[1, 2], [3, 4]])\n",
    "\n",
    "M[0, 0] = 0\n",
    "\n",
    "display(M)\n",
    "\n",
    "\n"
   ]
  },
  {
   "cell_type": "code",
   "execution_count": null,
   "metadata": {},
   "outputs": [],
   "source": []
  }
 ],
 "metadata": {
  "kernelspec": {
   "display_name": "base",
   "language": "python",
   "name": "python3"
  },
  "language_info": {
   "codemirror_mode": {
    "name": "ipython",
    "version": 3
   },
   "file_extension": ".py",
   "mimetype": "text/x-python",
   "name": "python",
   "nbconvert_exporter": "python",
   "pygments_lexer": "ipython3",
   "version": "3.11.7"
  }
 },
 "nbformat": 4,
 "nbformat_minor": 2
}

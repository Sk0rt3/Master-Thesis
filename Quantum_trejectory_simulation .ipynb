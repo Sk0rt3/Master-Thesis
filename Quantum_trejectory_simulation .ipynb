{
 "cells": [
  {
   "cell_type": "code",
   "execution_count": 3,
   "metadata": {},
   "outputs": [],
   "source": [
    "import numpy as np\n",
    "import qutip as qt\n",
    "import matplotlib.pyplot as plt"
   ]
  },
  {
   "cell_type": "markdown",
   "metadata": {},
   "source": [
    "# Class for the simulation"
   ]
  },
  {
   "cell_type": "code",
   "execution_count": 4,
   "metadata": {},
   "outputs": [
    {
     "ename": "SyntaxError",
     "evalue": "incomplete input (1429642433.py, line 1)",
     "output_type": "error",
     "traceback": [
      "\u001b[0;36m  Cell \u001b[0;32mIn[4], line 1\u001b[0;36m\u001b[0m\n\u001b[0;31m    class Quantum_trajectory():\u001b[0m\n\u001b[0m                               ^\u001b[0m\n\u001b[0;31mSyntaxError\u001b[0m\u001b[0;31m:\u001b[0m incomplete input\n"
     ]
    }
   ],
   "source": [
    "class Quantum_trajectory():\n",
    "    def __init__(self, H, psi0, tlist, c_ops, ntraj=1):\n",
    "        self.H = H\n",
    "        self.psi0 = psi0\n",
    "        self.tlist = tlist\n",
    "        self.c_ops = c_ops\n",
    "        self.ntraj = ntraj\n",
    "        self.dt = tlist[1] - tlist[0]\n",
    "        self.index = 0\n",
    "        self.index_max = len(tlist)\n",
    "        self.N_c_ops = len(c_ops)\n",
    "\n",
    "    def decompose_rho(self, rho):\n",
    "\n",
    "        # any density matrix can be decomposed into a sum of pure states, which is not unique as stated by the HJW therom, but we just need a single decomposition, so we chose the eigen states of the density matrix\n",
    "        eigen_values, eigen_states = rho.eigenstates()\n",
    "        return eigen_values, eigen_states\n",
    "\n",
    "    def normelize_psi(self, psi):\n",
    "        for i in range(len(psi)):\n",
    "            psi[i] = psi[i] / np.sqrt(psi[i].dag() * psi[i])\n",
    "        return psi\n",
    "\n",
    "    def simulate_trajectory(self, psi):\n",
    "        index = 0\n",
    "        psi = []\n",
    "        while index < self.index_max:\n",
    "            R = np.random.rand()\n",
    "            while psi[index].dag() * psi[index] > R and index < self.index_max:\n",
    "                psi.append(self.time_evolve_psi(psi[index], index))\n",
    "                index += 1\n",
    "                if index >= self.index_max:\n",
    "                    break\n",
    "            else:\n",
    "                P_jump = 0\n",
    "                for i in range(self.N_c_ops):\n",
    "                    P_jump += psi[index].dag() * self.c_ops[i].dag() * self.c_ops[i] * psi[index]\n",
    "                Prob_jump = []\n",
    "                for i in range(self.N_c_ops):\n",
    "                    Prob_jump.append(psi[index].dag() * self.c_ops[i].dag() * self.c_ops[i] * psi[index] / P_jump)\n",
    "                \n",
    "                cumulative_prob = np.cumsum(Prob_jump)\n",
    "                for i in cumulative_prob:\n",
    "                    if R < i:\n",
    "                        psi[index] = self.c_ops[i] * psi[index]\n",
    "                        break\n",
    "            psi[index] = psi[index] / np.sqrt(psi[index].dag() * psi[index])\n",
    "\n",
    "        psi = self.normelize_psi(psi)\n",
    "\n",
    "        return psi\n",
    "\n",
    "\n",
    "    def choose_psi(self, eigen_values, eigen_states):\n",
    "        R = np.random.rand()\n",
    "        cumulative_prob = np.cumsum(eigen_values)\n",
    "        for i in cumulative_prob:\n",
    "            if R < i:\n",
    "                return eigen_states[i]\n",
    "\n",
    "\n",
    "\n",
    "    def time_evolve_psi(self, psi, index):\n",
    "\n",
    "        d_psi_op = -1j * self.H[index]\n",
    "        for i in range(len(self.c_ops)):\n",
    "            d_psi_op += -self.c_ops[i].dag() * self.c_ops[i] / 2\n",
    "        d_psi = d_psi_op * psi * self.dt\n",
    "        psi =+ d_psi\n",
    "        return psi\n",
    "\n",
    "\n",
    "    def simulate(self, rho_0):\n",
    "        # decompose the initial state into a sum of pure state wavefunctions\n",
    "        eigen_values, eigen_states = rho_0.eigenstates()\n",
    "        psi = []\n",
    "        # run simulation for each trajectory\n",
    "        for i in range(self.ntraj):\n",
    "            # choose which pure state to simulate\n",
    "            psi_0 = self.choose_psi(eigen_values, eigen_states)\n",
    "            # simulate the trajectory\n",
    "            psi.append(self.simulate_trajectory(psi_0))\n",
    "        \n",
    "        # aproximate the density matrix by averaging over all the pure states\n",
    "\n",
    "\n",
    "\n",
    "        \n"
   ]
  },
  {
   "cell_type": "code",
   "execution_count": 16,
   "metadata": {},
   "outputs": [
    {
     "name": "stdout",
     "output_type": "stream",
     "text": [
      "<class 'qutip.core.qobj.Qobj'>\n",
      "Quantum object: dims=[[2], [2]], shape=(2, 2), type='oper', dtype=Dense, isherm=True\n",
      "Qobj data =\n",
      "[[-2.22044605e-16  0.00000000e+00]\n",
      " [ 5.55111512e-17  3.88578059e-16]]\n"
     ]
    }
   ],
   "source": [
    "def decompose_rho(rho):\n",
    "\n",
    "    # any density matrix can be decomposed into a sum of pure states, which is not unique as stated by the HJW therom, but we just need a single decomposition, so we chose the eigen states of the density matrix\n",
    "    eigen_values, eigen_states = rho.eigenstates()\n",
    "    \n",
    "    rho = 0\n",
    "    for i in range(len(eigen_states)):\n",
    "        rho += eigen_values[i] * eigen_states[i] * eigen_states[i].dag()\n",
    "    return rho\n",
    "\n",
    "rho = qt.rand_dm(2)\n",
    "\n",
    "print(type(rho))\n",
    "rho_new = decompose_rho(rho)\n",
    "\n",
    "\n",
    "\n",
    "print(rho - rho_new)"
   ]
  },
  {
   "cell_type": "code",
   "execution_count": null,
   "metadata": {},
   "outputs": [],
   "source": []
  }
 ],
 "metadata": {
  "kernelspec": {
   "display_name": "base",
   "language": "python",
   "name": "python3"
  },
  "language_info": {
   "codemirror_mode": {
    "name": "ipython",
    "version": 3
   },
   "file_extension": ".py",
   "mimetype": "text/x-python",
   "name": "python",
   "nbconvert_exporter": "python",
   "pygments_lexer": "ipython3",
   "version": "3.11.7"
  }
 },
 "nbformat": 4,
 "nbformat_minor": 2
}

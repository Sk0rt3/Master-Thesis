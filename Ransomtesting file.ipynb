{
 "cells": [
  {
   "cell_type": "code",
   "execution_count": 2,
   "metadata": {},
   "outputs": [],
   "source": [
    "import numpy as np"
   ]
  },
  {
   "cell_type": "code",
   "execution_count": 4,
   "metadata": {},
   "outputs": [
    {
     "name": "stdout",
     "output_type": "stream",
     "text": [
      "[[0.  0.  0.  0. ]\n",
      " [0.  0.  0.  0. ]\n",
      " [0.  0.  0.5 0. ]\n",
      " [0.  0.  0.  0.5]]\n",
      "[[0.5 0.  0.  0. ]\n",
      " [0.  0.5 0.  0. ]\n",
      " [0.  0.  0.  0. ]\n",
      " [0.  0.  0.  0. ]]\n"
     ]
    }
   ],
   "source": [
    "rho = np.array([[0.5, 0, 0, 0],\n",
    "                [0, 0.5, 0, 0],\n",
    "                [0, 0, 0, 0],\n",
    "                [0, 0, 0, 0]])\n",
    "\n",
    "r_01 = np.array([[0, 0, 0.,         0.        ],\n",
    "                 [0.,         0.,         0.,         0.        ],\n",
    "                 [1,  0.,         0.,         0.        ],\n",
    "                 [0.,         1, 0.,         0.        ]])\n",
    "\n",
    "r_02 = np.array([[0.,         0.,         1, 0.        ],\n",
    "                [0.,         0.,         0.,         1],\n",
    "                [0.,         0.,         0.,         0.        ],\n",
    "                [0.,         0.,         0.,         0.        ]])\n",
    "\n",
    "rho_trans = r_01@rho@r_01.T\n",
    "\n",
    "print(rho_trans)\n",
    "print(r_02@rho_trans@r_02.T)\n",
    "\n"
   ]
  },
  {
   "cell_type": "code",
   "execution_count": null,
   "metadata": {},
   "outputs": [],
   "source": [
    "def Adam_Bashforth_next_step_homodyne(self, func, index, order, rho):\n",
    "        \"\"\"Calculates the next values with the Adam Bashforth methode\"\"\"\n",
    "        \n",
    "        order = min(order, index + 1)\n",
    "        coeficents = calculate_Adam_Bashforth_coeficents(order)\n",
    "        d_rho = coeficents[0] * func(index, rho[index], dw)\n",
    "        \n",
    "\n",
    "        for i in range(1, order):\n",
    "            d_rho += coeficents[i] * func(index - i, rho[index - i], dw)\n",
    "\n",
    "        return d_rho\n",
    "\n",
    "\n",
    "def calculate_Adam_Bashforth_coeficents(self, order):\n",
    "        \"\"\"Calculates the coeficents for the Adam Bashforth methode\"\"\"\n",
    "        coeficents = np.zeros(order)\n",
    "        if order == 1:\n",
    "            coeficents = np.array([1])\n",
    "        elif order == 2:\n",
    "            coeficents = np.array([3/2, -1/2])\n",
    "        elif order == 3:\n",
    "            coeficents = np.array([23/12, -4/3, 5/12])\n",
    "        elif order == 4:\n",
    "            coeficents = np.array([55/24, -59/24, 37/24, -3/8])\n",
    "        elif order == 5:\n",
    "            coeficents = np.array([1901/720, -1387/360, 109/30, -637/360, 251/720])\n",
    "        elif order == 6:\n",
    "            coeficents = np.array([4277/1440, -2641/480, 4991/720, -3649/720, 959/480, -95/288])\n",
    "        elif order == 7:\n",
    "            coeficents = np.array([198721/60480, -18637/2520, 235183/20160, -10754/945, 135713/20160, -5603/2520, 19087/60480])\n",
    "        elif order == 8:\n",
    "            coeficents = np.array([16083/4480, -1152169/120960, 242653/13440, -296053/13440, 2102243/120960, -115747/13440, 32863/13440, -5257/17280])\n",
    "        elif order == 9:\n",
    "            coeficents = np.array([2171465/725760, -13486539/362880, 479101/8064, -7179867/120960, 11295603/362880, -12203/1512, 25713/4480, -227/504, 1/10])\n",
    "        return coeficents\n",
    "\n",
    "\n",
    "def test_function(x, y):\n",
    "     \n",
    "\n"
   ]
  },
  {
   "cell_type": "code",
   "execution_count": 6,
   "metadata": {},
   "outputs": [
    {
     "name": "stdout",
     "output_type": "stream",
     "text": [
      "[-9  1  1  1  1  1  1  1  1  1]\n"
     ]
    }
   ],
   "source": [
    "a = np.arange(10)\n",
    "print(a - np.roll(a, 1))"
   ]
  },
  {
   "cell_type": "code",
   "execution_count": null,
   "metadata": {},
   "outputs": [],
   "source": []
  }
 ],
 "metadata": {
  "kernelspec": {
   "display_name": "base",
   "language": "python",
   "name": "python3"
  },
  "language_info": {
   "codemirror_mode": {
    "name": "ipython",
    "version": 3
   },
   "file_extension": ".py",
   "mimetype": "text/x-python",
   "name": "python",
   "nbconvert_exporter": "python",
   "pygments_lexer": "ipython3",
   "version": "3.11.7"
  }
 },
 "nbformat": 4,
 "nbformat_minor": 2
}

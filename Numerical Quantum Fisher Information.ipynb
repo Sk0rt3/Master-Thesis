{
 "cells": [
  {
   "cell_type": "code",
   "execution_count": 4,
   "metadata": {},
   "outputs": [],
   "source": [
    "import sympy as sp\n",
    "import numpy as np\n",
    "import scipy as sc\n",
    "from sympy.physics.quantum import TensorProduct, Dagger\n",
    "I = 1j#sp.I\n"
   ]
  },
  {
   "cell_type": "markdown",
   "metadata": {},
   "source": [
    "## psudo code"
   ]
  },
  {
   "cell_type": "markdown",
   "metadata": {},
   "source": [
    "- gennerate L matrix\n",
    "- Find eigenvalues and eigenvectors for 3 points at $\\theat, \\theta - \\Delta \\theta_1, \\theta + \\Delta \\theta_2 $\n",
    "- Use 2nd order hellam expression, witch requires only first order dirivative of eigenvectors"
   ]
  },
  {
   "cell_type": "code",
   "execution_count": null,
   "metadata": {},
   "outputs": [],
   "source": [
    "def T_product(A, B):\n",
    "    return TensorProduct(A, B.T)\n",
    "\n",
    "def gennerate_L(H_left, H_rigth, c_left, c_rigth):\n",
    "    H_vec, c_vec = vec_ing(H_left, H_rigth, c_left, c_rigth)\n",
    "    L = create_L_matrix(H_vec, c_vec)\n",
    "    return L\n",
    "\n",
    "def vec_ing(H_left, H_rigth, c_left, c_rigth):\n",
    "    \n",
    "    N_dim = sp.shape(H_left)[0]\n",
    "    I_n = sp.eye(N_dim)\n",
    "    c_number = np.shape(c_left)[0]\n",
    "    c_vec = []\n",
    "    H_vec = -I * (T_product(H_left, I_n) - T_product(I_n, H_rigth))\n",
    "    for i in range(c_number):\n",
    "        c_vec.append(T_product(c_left[i], Dagger(c_rigth[i])) - 1/2 * (T_product(Dagger(c_left[i]) * c_left[i], I_n) + T_product(I_n, Dagger(c_rigth[i]) * c_rigth[i])))\n",
    "    return H_vec, c_vec\n",
    "\n",
    "def create_L_matrix(H_vec, c_vec):\n",
    "    N_dim = sp.shape(H_vec)[0]\n",
    "    c_number = np.shape(c_vec)[0]\n",
    "    L = H_vec\n",
    "    for i in range(c_number):\n",
    "        L += c_vec[i]\n",
    "    return L\n",
    "\n",
    "\n",
    "def find_eigen_value(M):\n",
    "    eigen_val, eigen_vec = np.linalg.eig(M)\n",
    "    return eigen_val[-1], eigen_vec[-1]\n",
    "\n",
    "def second_order_Hellmann(L, L_dif_dif, v, v_dif_1, v_dif_2, r, r_dif_1, r_dif_2):\n",
    "\n",
    "    Fisher = v_dif_1 * L  * r_dif_2\n",
    "    Fisher += v_dif_2 * L * r_dif_1\n",
    "    Fisher += v * L_dif_dif * r\n",
    "\n",
    "\n",
    "    Fisher *= 4\n",
    "\n",
    "    return Fisher"
   ]
  },
  {
   "cell_type": "code",
   "execution_count": null,
   "metadata": {},
   "outputs": [],
   "source": []
  }
 ],
 "metadata": {
  "kernelspec": {
   "display_name": "base",
   "language": "python",
   "name": "python3"
  },
  "language_info": {
   "codemirror_mode": {
    "name": "ipython",
    "version": 3
   },
   "file_extension": ".py",
   "mimetype": "text/x-python",
   "name": "python",
   "nbconvert_exporter": "python",
   "pygments_lexer": "ipython3",
   "version": "3.11.7"
  }
 },
 "nbformat": 4,
 "nbformat_minor": 2
}

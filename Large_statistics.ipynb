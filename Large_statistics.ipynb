{
 "cells": [
  {
   "cell_type": "code",
   "execution_count": 2,
   "metadata": {},
   "outputs": [],
   "source": [
    "import numpy as np\n",
    "import matplotlib.pyplot as plt\n",
    "import Uniform_2_spin_function as spin\n",
    "import threading\n",
    "from tqdm import notebook"
   ]
  },
  {
   "cell_type": "code",
   "execution_count": 3,
   "metadata": {},
   "outputs": [
    {
     "data": {
      "application/vnd.jupyter.widget-view+json": {
       "model_id": "f9ebcb4019624fbba5c42f1b7d504960",
       "version_major": 2,
       "version_minor": 0
      },
      "text/plain": [
       "  0%|          | 0/30 [00:00<?, ?it/s]"
      ]
     },
     "metadata": {},
     "output_type": "display_data"
    },
    {
     "name": "stderr",
     "output_type": "stream",
     "text": [
      "/home/sk0rt3/Documents/Masters/2024-2025/Masters_thesis/Code/Master_thesis/PQS_solver.py:425: ComplexWarning: Casting complex values to real discards the imaginary part\n",
      "  dY[index][i] = self.gennerate_outputsignal(dw[index][i], self.rho[index], self.sc_ops[index][i], self.nu[i])\n",
      "/home/sk0rt3/Documents/Masters/2024-2025/Masters_thesis/Code/Master_thesis/PQS_solver.py:554: ComplexWarning: Casting complex values to real discards the imaginary part\n",
      "  dv[index][i] = self.estimate_dw(dY[index][i], self.rho[index], self.sc_ops, self.nu[i], self.N_states, i)\n"
     ]
    }
   ],
   "source": [
    "name = '2_spin_system_uniform_medium_12_12_2024_entangled'\n",
    "N_sim = 8 * 30\n",
    "beta_1 = np.array([0.2, 0, 0])\n",
    "beta_2 = np.array([0, 0.2, 0])\n",
    "sys = spin.Two_spin_system(name, t_gamma=300, entaglement=True, beta_1=beta_1, beta_2=beta_2)\n",
    "\n",
    "seed = np.random.randint(0, 100000, size=N_sim)\n",
    "\n",
    "\n",
    "\n",
    "\n",
    "\n",
    "for i in notebook.tqdm(range(int(N_sim/8))):\n",
    "    worker_1 = threading.Thread(target=sys.simulate_2_spin, args=(seed[0],))\n",
    "    #worker_2 = threading.Thread(target=sys.simulate_2_spin, args=(seed[1],))\n",
    "    #worker_3 = threading.Thread(target=sys.simulate_2_spin, args=(seed[2],))\n",
    "    #worker_4 = threading.Thread(target=sys.simulate_2_spin, args=(seed[3],))\n",
    "    #worker_5 = threading.Thread(target=sys.simulate_2_spin, args=(seed[4],))\n",
    "    #worker_6 = threading.Thread(target=sys.simulate_2_spin, args=(seed[5],))\n",
    "    #worker_7 = threading.Thread(target=sys.simulate_2_spin, args=(seed[6],))\n",
    "    #worker_8 = threading.Thread(target=sys.simulate_2_spin, args=(seed[7],))\n",
    "\n",
    "    worker_1.start()\n",
    "    #worker_2.start()\n",
    "    #worker_3.start()\n",
    "    #worker_4.start()\n",
    "    #worker_5.start()\n",
    "    #worker_6.start()\n",
    "    #worker_7.start()\n",
    "    #worker_8.start()\n",
    "\n",
    "    worker_1.join()\n",
    "    #worker_2.join()\n",
    "    #worker_3.join()\n",
    "    #worker_4.join()\n",
    "    #worker_5.join()\n",
    "    #worker_6.join()\n",
    "    #worker_7.join()\n",
    "    #worker_8.join()\n",
    "\n",
    "#sys.simulate_2_spin()\n",
    "\n"
   ]
  },
  {
   "cell_type": "code",
   "execution_count": null,
   "metadata": {},
   "outputs": [],
   "source": []
  }
 ],
 "metadata": {
  "kernelspec": {
   "display_name": "base",
   "language": "python",
   "name": "python3"
  },
  "language_info": {
   "codemirror_mode": {
    "name": "ipython",
    "version": 3
   },
   "file_extension": ".py",
   "mimetype": "text/x-python",
   "name": "python",
   "nbconvert_exporter": "python",
   "pygments_lexer": "ipython3",
   "version": "3.11.7"
  }
 },
 "nbformat": 4,
 "nbformat_minor": 2
}
